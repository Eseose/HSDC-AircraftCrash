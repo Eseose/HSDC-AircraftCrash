{
  "nbformat": 4,
  "nbformat_minor": 0,
  "metadata": {
    "kernelspec": {
      "display_name": "Python 3",
      "language": "python",
      "name": "python3"
    },
    "language_info": {
      "codemirror_mode": {
        "name": "ipython",
        "version": 3
      },
      "file_extension": ".py",
      "mimetype": "text/x-python",
      "name": "python",
      "nbconvert_exporter": "python",
      "pygments_lexer": "ipython3",
      "version": "3.8.5"
    },
    "toc": {
      "base_numbering": 1,
      "nav_menu": {},
      "number_sections": true,
      "sideBar": true,
      "skip_h1_title": false,
      "title_cell": "Table of Contents",
      "title_sidebar": "Contents",
      "toc_cell": false,
      "toc_position": {},
      "toc_section_display": true,
      "toc_window_display": false
    },
    "colab": {
      "name": "Airplane crashes and fatality data sets.ipynb",
      "provenance": []
    }
  },
  "cells": [
    {
      "cell_type": "code",
      "metadata": {
        "id": "9n4OeaAjI84O"
      },
      "source": [
        "##1  Project: Investigating Airplane crashes Dataset(Team Vispy)\n",
        "##    1.1  Table of Contents\n",
        "    \n",
        "##Introduction\n",
        "##Data Wrangling\n",
        "##Exploratory Data Analysis\n",
        "##Conclusions\n",
        "\n"
      ],
      "execution_count": 185,
      "outputs": []
    },
    {
      "cell_type": "code",
      "metadata": {
        "id": "weoHCpLbI84R"
      },
      "source": [
        "##1.2  Introduction\n",
        "##This data set contains information about airplane crashes collected from kaggle website data collections, including fatalities,aboard,date,time,operators.\n",
        "\n",
        "##In this first step, I’ll import the necessary libraries to import the data. After that, I’ll perform some basic commands to understand the structure of the data.\n",
        "\n",
        "##This analysis looks at two major questions;\n",
        "\n",
        "##How many plane crashes yearly?\n",
        "##How many people were on board?\n",
        "##How many survivors were recorded?"
      ],
      "execution_count": 186,
      "outputs": []
    },
    {
      "cell_type": "code",
      "metadata": {
        "id": "WZxeCrCMI84S"
      },
      "source": [
        "#importing numpy and pandas libraries to read the data\n",
        "import pandas as pd\n",
        "import numpy as np\n",
        "\n",
        "# Import matplotlib and seaborn libraries to visualize the data\n",
        "import matplotlib.pyplot as plt\n",
        "import seaborn as sns\n",
        "%matplotlib inline\n",
        "\n",
        "# Supress Warnings\n",
        "import warnings\n",
        "warnings.filterwarnings('ignore')\n",
        "from scipy import stats as sts"
      ],
      "execution_count": 187,
      "outputs": []
    },
    {
      "cell_type": "code",
      "metadata": {
        "id": "i0efs6hkI84T"
      },
      "source": [
        "## Data Wrangling\n",
        "\n",
        "##> **Tip**: In this section of the report, I will load in the data, check for cleanliness, and then trim and clean the dataset for my analysis. \n",
        "\n"
      ],
      "execution_count": 188,
      "outputs": []
    },
    {
      "cell_type": "code",
      "metadata": {
        "colab": {
          "base_uri": "https://localhost:8080/",
          "height": 304
        },
        "id": "9-R-o282I84T",
        "outputId": "6e9e7b9c-5872-419a-dee5-eec677def64b"
      },
      "source": [
        "Aircrash_data = pd.read_csv('Airplane_Crashes_and_Fatalities_Since_1908.csv')\n",
        "Aircrash_data.head()"
      ],
      "execution_count": 189,
      "outputs": [
        {
          "output_type": "execute_result",
          "data": {
            "text/html": [
              "<div>\n",
              "<style scoped>\n",
              "    .dataframe tbody tr th:only-of-type {\n",
              "        vertical-align: middle;\n",
              "    }\n",
              "\n",
              "    .dataframe tbody tr th {\n",
              "        vertical-align: top;\n",
              "    }\n",
              "\n",
              "    .dataframe thead th {\n",
              "        text-align: right;\n",
              "    }\n",
              "</style>\n",
              "<table border=\"1\" class=\"dataframe\">\n",
              "  <thead>\n",
              "    <tr style=\"text-align: right;\">\n",
              "      <th></th>\n",
              "      <th>Date</th>\n",
              "      <th>Time</th>\n",
              "      <th>Location</th>\n",
              "      <th>Operator</th>\n",
              "      <th>Flight #</th>\n",
              "      <th>Route</th>\n",
              "      <th>Type</th>\n",
              "      <th>Registration</th>\n",
              "      <th>cn/In</th>\n",
              "      <th>Aboard</th>\n",
              "      <th>Fatalities</th>\n",
              "      <th>Ground</th>\n",
              "      <th>Summary</th>\n",
              "    </tr>\n",
              "  </thead>\n",
              "  <tbody>\n",
              "    <tr>\n",
              "      <th>0</th>\n",
              "      <td>09/17/1908</td>\n",
              "      <td>17:18</td>\n",
              "      <td>Fort Myer, Virginia</td>\n",
              "      <td>Military - U.S. Army</td>\n",
              "      <td>NaN</td>\n",
              "      <td>Demonstration</td>\n",
              "      <td>Wright Flyer III</td>\n",
              "      <td>NaN</td>\n",
              "      <td>1</td>\n",
              "      <td>2.0</td>\n",
              "      <td>1.0</td>\n",
              "      <td>0.0</td>\n",
              "      <td>During a demonstration flight, a U.S. Army fly...</td>\n",
              "    </tr>\n",
              "    <tr>\n",
              "      <th>1</th>\n",
              "      <td>07/12/1912</td>\n",
              "      <td>06:30</td>\n",
              "      <td>AtlantiCity, New Jersey</td>\n",
              "      <td>Military - U.S. Navy</td>\n",
              "      <td>NaN</td>\n",
              "      <td>Test flight</td>\n",
              "      <td>Dirigible</td>\n",
              "      <td>NaN</td>\n",
              "      <td>NaN</td>\n",
              "      <td>5.0</td>\n",
              "      <td>5.0</td>\n",
              "      <td>0.0</td>\n",
              "      <td>First U.S. dirigible Akron exploded just offsh...</td>\n",
              "    </tr>\n",
              "    <tr>\n",
              "      <th>2</th>\n",
              "      <td>08/06/1913</td>\n",
              "      <td>NaN</td>\n",
              "      <td>Victoria, British Columbia, Canada</td>\n",
              "      <td>Private</td>\n",
              "      <td>-</td>\n",
              "      <td>NaN</td>\n",
              "      <td>Curtiss seaplane</td>\n",
              "      <td>NaN</td>\n",
              "      <td>NaN</td>\n",
              "      <td>1.0</td>\n",
              "      <td>1.0</td>\n",
              "      <td>0.0</td>\n",
              "      <td>The first fatal airplane accident in Canada oc...</td>\n",
              "    </tr>\n",
              "    <tr>\n",
              "      <th>3</th>\n",
              "      <td>09/09/1913</td>\n",
              "      <td>18:30</td>\n",
              "      <td>Over the North Sea</td>\n",
              "      <td>Military - German Navy</td>\n",
              "      <td>NaN</td>\n",
              "      <td>NaN</td>\n",
              "      <td>Zeppelin L-1 (airship)</td>\n",
              "      <td>NaN</td>\n",
              "      <td>NaN</td>\n",
              "      <td>20.0</td>\n",
              "      <td>14.0</td>\n",
              "      <td>0.0</td>\n",
              "      <td>The airship flew into a thunderstorm and encou...</td>\n",
              "    </tr>\n",
              "    <tr>\n",
              "      <th>4</th>\n",
              "      <td>10/17/1913</td>\n",
              "      <td>10:30</td>\n",
              "      <td>Near Johannisthal, Germany</td>\n",
              "      <td>Military - German Navy</td>\n",
              "      <td>NaN</td>\n",
              "      <td>NaN</td>\n",
              "      <td>Zeppelin L-2 (airship)</td>\n",
              "      <td>NaN</td>\n",
              "      <td>NaN</td>\n",
              "      <td>30.0</td>\n",
              "      <td>30.0</td>\n",
              "      <td>0.0</td>\n",
              "      <td>Hydrogen gas which was being vented was sucked...</td>\n",
              "    </tr>\n",
              "  </tbody>\n",
              "</table>\n",
              "</div>"
            ],
            "text/plain": [
              "         Date   Time  ... Ground                                            Summary\n",
              "0  09/17/1908  17:18  ...    0.0  During a demonstration flight, a U.S. Army fly...\n",
              "1  07/12/1912  06:30  ...    0.0  First U.S. dirigible Akron exploded just offsh...\n",
              "2  08/06/1913    NaN  ...    0.0  The first fatal airplane accident in Canada oc...\n",
              "3  09/09/1913  18:30  ...    0.0  The airship flew into a thunderstorm and encou...\n",
              "4  10/17/1913  10:30  ...    0.0  Hydrogen gas which was being vented was sucked...\n",
              "\n",
              "[5 rows x 13 columns]"
            ]
          },
          "metadata": {},
          "execution_count": 189
        }
      ]
    },
    {
      "cell_type": "code",
      "metadata": {
        "colab": {
          "base_uri": "https://localhost:8080/",
          "height": 295
        },
        "id": "Cde7VH0aI84U",
        "outputId": "455a82f8-7beb-4785-dd86-3d149808bb3c"
      },
      "source": [
        "#Some summary statistics for the dataset\n",
        "#Using describe, I’ll see whether there is any sudden jump in the data’s values.\n",
        "Aircrash_data.describe()"
      ],
      "execution_count": 190,
      "outputs": [
        {
          "output_type": "execute_result",
          "data": {
            "text/html": [
              "<div>\n",
              "<style scoped>\n",
              "    .dataframe tbody tr th:only-of-type {\n",
              "        vertical-align: middle;\n",
              "    }\n",
              "\n",
              "    .dataframe tbody tr th {\n",
              "        vertical-align: top;\n",
              "    }\n",
              "\n",
              "    .dataframe thead th {\n",
              "        text-align: right;\n",
              "    }\n",
              "</style>\n",
              "<table border=\"1\" class=\"dataframe\">\n",
              "  <thead>\n",
              "    <tr style=\"text-align: right;\">\n",
              "      <th></th>\n",
              "      <th>Aboard</th>\n",
              "      <th>Fatalities</th>\n",
              "      <th>Ground</th>\n",
              "    </tr>\n",
              "  </thead>\n",
              "  <tbody>\n",
              "    <tr>\n",
              "      <th>count</th>\n",
              "      <td>5246.000000</td>\n",
              "      <td>5256.000000</td>\n",
              "      <td>5246.000000</td>\n",
              "    </tr>\n",
              "    <tr>\n",
              "      <th>mean</th>\n",
              "      <td>27.554518</td>\n",
              "      <td>20.068303</td>\n",
              "      <td>1.608845</td>\n",
              "    </tr>\n",
              "    <tr>\n",
              "      <th>std</th>\n",
              "      <td>43.076711</td>\n",
              "      <td>33.199952</td>\n",
              "      <td>53.987827</td>\n",
              "    </tr>\n",
              "    <tr>\n",
              "      <th>min</th>\n",
              "      <td>0.000000</td>\n",
              "      <td>0.000000</td>\n",
              "      <td>0.000000</td>\n",
              "    </tr>\n",
              "    <tr>\n",
              "      <th>25%</th>\n",
              "      <td>5.000000</td>\n",
              "      <td>3.000000</td>\n",
              "      <td>0.000000</td>\n",
              "    </tr>\n",
              "    <tr>\n",
              "      <th>50%</th>\n",
              "      <td>13.000000</td>\n",
              "      <td>9.000000</td>\n",
              "      <td>0.000000</td>\n",
              "    </tr>\n",
              "    <tr>\n",
              "      <th>75%</th>\n",
              "      <td>30.000000</td>\n",
              "      <td>23.000000</td>\n",
              "      <td>0.000000</td>\n",
              "    </tr>\n",
              "    <tr>\n",
              "      <th>max</th>\n",
              "      <td>644.000000</td>\n",
              "      <td>583.000000</td>\n",
              "      <td>2750.000000</td>\n",
              "    </tr>\n",
              "  </tbody>\n",
              "</table>\n",
              "</div>"
            ],
            "text/plain": [
              "            Aboard   Fatalities       Ground\n",
              "count  5246.000000  5256.000000  5246.000000\n",
              "mean     27.554518    20.068303     1.608845\n",
              "std      43.076711    33.199952    53.987827\n",
              "min       0.000000     0.000000     0.000000\n",
              "25%       5.000000     3.000000     0.000000\n",
              "50%      13.000000     9.000000     0.000000\n",
              "75%      30.000000    23.000000     0.000000\n",
              "max     644.000000   583.000000  2750.000000"
            ]
          },
          "metadata": {},
          "execution_count": 190
        }
      ]
    },
    {
      "cell_type": "code",
      "metadata": {
        "colab": {
          "base_uri": "https://localhost:8080/"
        },
        "id": "WJT88xXMI84U",
        "outputId": "5c480774-7bb0-4202-a5ce-6bf6d60f6663"
      },
      "source": [
        "#Info on the dataset.\n",
        "#Using the info to see whether there are any null values in the data. so I can manipulate the data and drop what we will not be using.\n",
        "\n",
        "Aircrash_data.info()"
      ],
      "execution_count": 191,
      "outputs": [
        {
          "output_type": "stream",
          "name": "stdout",
          "text": [
            "<class 'pandas.core.frame.DataFrame'>\n",
            "RangeIndex: 5268 entries, 0 to 5267\n",
            "Data columns (total 13 columns):\n",
            " #   Column        Non-Null Count  Dtype  \n",
            "---  ------        --------------  -----  \n",
            " 0   Date          5268 non-null   object \n",
            " 1   Time          3049 non-null   object \n",
            " 2   Location      5248 non-null   object \n",
            " 3   Operator      5250 non-null   object \n",
            " 4   Flight #      1069 non-null   object \n",
            " 5   Route         3562 non-null   object \n",
            " 6   Type          5241 non-null   object \n",
            " 7   Registration  4933 non-null   object \n",
            " 8   cn/In         4040 non-null   object \n",
            " 9   Aboard        5246 non-null   float64\n",
            " 10  Fatalities    5256 non-null   float64\n",
            " 11  Ground        5246 non-null   float64\n",
            " 12  Summary       4878 non-null   object \n",
            "dtypes: float64(3), object(10)\n",
            "memory usage: 535.2+ KB\n"
          ]
        }
      ]
    },
    {
      "cell_type": "code",
      "metadata": {
        "colab": {
          "base_uri": "https://localhost:8080/"
        },
        "id": "pO3r1QhaI84V",
        "outputId": "6209b61e-90e3-4994-d393-80088a11c77f"
      },
      "source": [
        "Aircrash_data.shape"
      ],
      "execution_count": 192,
      "outputs": [
        {
          "output_type": "execute_result",
          "data": {
            "text/plain": [
              "(5268, 13)"
            ]
          },
          "metadata": {},
          "execution_count": 192
        }
      ]
    },
    {
      "cell_type": "code",
      "metadata": {
        "colab": {
          "base_uri": "https://localhost:8080/"
        },
        "id": "EgRBcGmVSys-",
        "outputId": "c8e22414-1464-439c-d81b-61b09e4e955f"
      },
      "source": [
        "#looking for missing values\n",
        "Aircrash_data.isnull().sum()"
      ],
      "execution_count": 193,
      "outputs": [
        {
          "output_type": "execute_result",
          "data": {
            "text/plain": [
              "Date               0\n",
              "Time            2219\n",
              "Location          20\n",
              "Operator          18\n",
              "Flight #        4199\n",
              "Route           1706\n",
              "Type              27\n",
              "Registration     335\n",
              "cn/In           1228\n",
              "Aboard            22\n",
              "Fatalities        12\n",
              "Ground            22\n",
              "Summary          390\n",
              "dtype: int64"
            ]
          },
          "metadata": {},
          "execution_count": 193
        }
      ]
    },
    {
      "cell_type": "code",
      "metadata": {
        "id": "kyt6iyN7ZQo5"
      },
      "source": [
        "Aircrash_data['Fatalities'].fillna(0, inplace = True)\n",
        "Aircrash_data['Aboard'].fillna(0, inplace = True)\n",
        "Aircrash_data['Ground'].fillna(0, inplace = True)"
      ],
      "execution_count": 194,
      "outputs": []
    },
    {
      "cell_type": "code",
      "metadata": {
        "colab": {
          "base_uri": "https://localhost:8080/"
        },
        "id": "8zcjqZBYZdfH",
        "outputId": "3cd59d6b-a1bd-4402-87aa-2aa3bbdd6b54"
      },
      "source": [
        "Aircrash_data['Date'] = pd.to_datetime(Aircrash_data['Date'])\n",
        "Aircrash_data['Date'] = Aircrash_data['Date'].dt.strftime(\"%m/%d/%Y\")\n",
        "Aircrash_data['Date'].head(5)"
      ],
      "execution_count": 195,
      "outputs": [
        {
          "output_type": "execute_result",
          "data": {
            "text/plain": [
              "0    09/17/1908\n",
              "1    07/12/1912\n",
              "2    08/06/1913\n",
              "3    09/09/1913\n",
              "4    10/17/1913\n",
              "Name: Date, dtype: object"
            ]
          },
          "metadata": {},
          "execution_count": 195
        }
      ]
    },
    {
      "cell_type": "code",
      "metadata": {
        "colab": {
          "base_uri": "https://localhost:8080/"
        },
        "id": "vhSROnmBZogY",
        "outputId": "65f00935-6345-45c6-a38c-31ce2ff8b75d"
      },
      "source": [
        "Aircrash_data['Year'] = pd.DatetimeIndex(Aircrash_data['Date']).year\n",
        "Aircrash_data['Year'].head(5)"
      ],
      "execution_count": 196,
      "outputs": [
        {
          "output_type": "execute_result",
          "data": {
            "text/plain": [
              "0    1908\n",
              "1    1912\n",
              "2    1913\n",
              "3    1913\n",
              "4    1913\n",
              "Name: Year, dtype: int64"
            ]
          },
          "metadata": {},
          "execution_count": 196
        }
      ]
    },
    {
      "cell_type": "code",
      "metadata": {
        "id": "AnkjokrvZvbo"
      },
      "source": [
        "Aircrash_data['Survived'] = Aircrash_data['Aboard'] - Aircrash_data['Fatalities']\n",
        "Aircrash_data['Survived'].fillna(0, inplace = True)"
      ],
      "execution_count": 197,
      "outputs": []
    },
    {
      "cell_type": "code",
      "metadata": {
        "colab": {
          "base_uri": "https://localhost:8080/",
          "height": 304
        },
        "id": "ApNyQv7pZ07I",
        "outputId": "dc590ac5-fa57-42bf-94b8-d87c2d262f32"
      },
      "source": [
        "Aircrash_data.head()"
      ],
      "execution_count": 198,
      "outputs": [
        {
          "output_type": "execute_result",
          "data": {
            "text/html": [
              "<div>\n",
              "<style scoped>\n",
              "    .dataframe tbody tr th:only-of-type {\n",
              "        vertical-align: middle;\n",
              "    }\n",
              "\n",
              "    .dataframe tbody tr th {\n",
              "        vertical-align: top;\n",
              "    }\n",
              "\n",
              "    .dataframe thead th {\n",
              "        text-align: right;\n",
              "    }\n",
              "</style>\n",
              "<table border=\"1\" class=\"dataframe\">\n",
              "  <thead>\n",
              "    <tr style=\"text-align: right;\">\n",
              "      <th></th>\n",
              "      <th>Date</th>\n",
              "      <th>Time</th>\n",
              "      <th>Location</th>\n",
              "      <th>Operator</th>\n",
              "      <th>Flight #</th>\n",
              "      <th>Route</th>\n",
              "      <th>Type</th>\n",
              "      <th>Registration</th>\n",
              "      <th>cn/In</th>\n",
              "      <th>Aboard</th>\n",
              "      <th>Fatalities</th>\n",
              "      <th>Ground</th>\n",
              "      <th>Summary</th>\n",
              "      <th>Year</th>\n",
              "      <th>Survived</th>\n",
              "    </tr>\n",
              "  </thead>\n",
              "  <tbody>\n",
              "    <tr>\n",
              "      <th>0</th>\n",
              "      <td>09/17/1908</td>\n",
              "      <td>17:18</td>\n",
              "      <td>Fort Myer, Virginia</td>\n",
              "      <td>Military - U.S. Army</td>\n",
              "      <td>NaN</td>\n",
              "      <td>Demonstration</td>\n",
              "      <td>Wright Flyer III</td>\n",
              "      <td>NaN</td>\n",
              "      <td>1</td>\n",
              "      <td>2.0</td>\n",
              "      <td>1.0</td>\n",
              "      <td>0.0</td>\n",
              "      <td>During a demonstration flight, a U.S. Army fly...</td>\n",
              "      <td>1908</td>\n",
              "      <td>1.0</td>\n",
              "    </tr>\n",
              "    <tr>\n",
              "      <th>1</th>\n",
              "      <td>07/12/1912</td>\n",
              "      <td>06:30</td>\n",
              "      <td>AtlantiCity, New Jersey</td>\n",
              "      <td>Military - U.S. Navy</td>\n",
              "      <td>NaN</td>\n",
              "      <td>Test flight</td>\n",
              "      <td>Dirigible</td>\n",
              "      <td>NaN</td>\n",
              "      <td>NaN</td>\n",
              "      <td>5.0</td>\n",
              "      <td>5.0</td>\n",
              "      <td>0.0</td>\n",
              "      <td>First U.S. dirigible Akron exploded just offsh...</td>\n",
              "      <td>1912</td>\n",
              "      <td>0.0</td>\n",
              "    </tr>\n",
              "    <tr>\n",
              "      <th>2</th>\n",
              "      <td>08/06/1913</td>\n",
              "      <td>NaN</td>\n",
              "      <td>Victoria, British Columbia, Canada</td>\n",
              "      <td>Private</td>\n",
              "      <td>-</td>\n",
              "      <td>NaN</td>\n",
              "      <td>Curtiss seaplane</td>\n",
              "      <td>NaN</td>\n",
              "      <td>NaN</td>\n",
              "      <td>1.0</td>\n",
              "      <td>1.0</td>\n",
              "      <td>0.0</td>\n",
              "      <td>The first fatal airplane accident in Canada oc...</td>\n",
              "      <td>1913</td>\n",
              "      <td>0.0</td>\n",
              "    </tr>\n",
              "    <tr>\n",
              "      <th>3</th>\n",
              "      <td>09/09/1913</td>\n",
              "      <td>18:30</td>\n",
              "      <td>Over the North Sea</td>\n",
              "      <td>Military - German Navy</td>\n",
              "      <td>NaN</td>\n",
              "      <td>NaN</td>\n",
              "      <td>Zeppelin L-1 (airship)</td>\n",
              "      <td>NaN</td>\n",
              "      <td>NaN</td>\n",
              "      <td>20.0</td>\n",
              "      <td>14.0</td>\n",
              "      <td>0.0</td>\n",
              "      <td>The airship flew into a thunderstorm and encou...</td>\n",
              "      <td>1913</td>\n",
              "      <td>6.0</td>\n",
              "    </tr>\n",
              "    <tr>\n",
              "      <th>4</th>\n",
              "      <td>10/17/1913</td>\n",
              "      <td>10:30</td>\n",
              "      <td>Near Johannisthal, Germany</td>\n",
              "      <td>Military - German Navy</td>\n",
              "      <td>NaN</td>\n",
              "      <td>NaN</td>\n",
              "      <td>Zeppelin L-2 (airship)</td>\n",
              "      <td>NaN</td>\n",
              "      <td>NaN</td>\n",
              "      <td>30.0</td>\n",
              "      <td>30.0</td>\n",
              "      <td>0.0</td>\n",
              "      <td>Hydrogen gas which was being vented was sucked...</td>\n",
              "      <td>1913</td>\n",
              "      <td>0.0</td>\n",
              "    </tr>\n",
              "  </tbody>\n",
              "</table>\n",
              "</div>"
            ],
            "text/plain": [
              "         Date   Time  ...  Year Survived\n",
              "0  09/17/1908  17:18  ...  1908      1.0\n",
              "1  07/12/1912  06:30  ...  1912      0.0\n",
              "2  08/06/1913    NaN  ...  1913      0.0\n",
              "3  09/09/1913  18:30  ...  1913      6.0\n",
              "4  10/17/1913  10:30  ...  1913      0.0\n",
              "\n",
              "[5 rows x 15 columns]"
            ]
          },
          "metadata": {},
          "execution_count": 198
        }
      ]
    },
    {
      "cell_type": "code",
      "metadata": {
        "id": "AbAwmgqpI84W"
      },
      "source": [
        "#Exploratory Data Analysis\n",
        "\n",
        "##> **Tip**: Now that you've trimmed and cleaned your data, you're ready to move on to exploration. Compute statistics and create visualizations with the goal of addressing the research questions that you posed in the Introduction section. It is recommended that you be systematic with your approach. Look at one variable at a time, and then follow it up by looking at relationships between variables.\n"
      ],
      "execution_count": 199,
      "outputs": []
    },
    {
      "cell_type": "code",
      "metadata": {
        "id": "k8BtUktldkrB"
      },
      "source": [
        "total_crashes_year = Aircrash_data[['Year', 'Date']].groupby('Year').count()\n",
        "total_crashes_year = total_crashes_year.reset_index()\n",
        "total_crashes_year.columns = ['Year', 'Crashes']\n"
      ],
      "execution_count": 200,
      "outputs": []
    },
    {
      "cell_type": "code",
      "metadata": {
        "colab": {
          "base_uri": "https://localhost:8080/",
          "height": 298
        },
        "id": "M2ENmG68V0TS",
        "outputId": "b6e87766-caf8-4889-abdb-bed6f01f6cd3"
      },
      "source": [
        "sns.lineplot(x = 'Year', y = 'Crashes', data = total_crashes_year)\n",
        "plt.title('Total Airplane Crashes per Year')\n",
        "plt.xlabel('')"
      ],
      "execution_count": 201,
      "outputs": [
        {
          "output_type": "execute_result",
          "data": {
            "text/plain": [
              "Text(0.5, 0, '')"
            ]
          },
          "metadata": {},
          "execution_count": 201
        },
        {
          "output_type": "display_data",
          "data": {
            "image/png": "[encoded data removed]",
            "text/plain": [
              "<Figure size 432x288 with 1 Axes>"
            ]
          },
          "metadata": {
            "needs_background": "light"
          }
        }
      ]
    },
    {
      "cell_type": "code",
      "metadata": {
        "id": "4jdixFIGV81A"
      },
      "source": [
        "pcdeaths_year = Aircrash_data[['Year', 'Fatalities']].groupby('Year').sum()\n",
        "pcdeaths_year.reset_index(inplace = True)"
      ],
      "execution_count": 202,
      "outputs": []
    },
    {
      "cell_type": "code",
      "metadata": {
        "colab": {
          "base_uri": "https://localhost:8080/",
          "height": 298
        },
        "id": "q03drEY4WDoO",
        "outputId": "a8a542f9-9032-4e79-be9e-04aa4f44275b"
      },
      "source": [
        "sns.lineplot(x = 'Year', y = 'Fatalities', data = pcdeaths_year)\n",
        "plt.title('Total Number of Fatalities by Air Plane Crashes per Year')\n",
        "plt.xlabel('')"
      ],
      "execution_count": 203,
      "outputs": [
        {
          "output_type": "execute_result",
          "data": {
            "text/plain": [
              "Text(0.5, 0, '')"
            ]
          },
          "metadata": {},
          "execution_count": 203
        },
        {
          "output_type": "display_data",
          "data": {
            "image/png": "[encoded data removed]",
            "text/plain": [
              "<Figure size 432x288 with 1 Axes>"
            ]
          },
          "metadata": {
            "needs_background": "light"
          }
        }
      ]
    },
    {
      "cell_type": "code",
      "metadata": {
        "id": "Hfz8xybnWMUG"
      },
      "source": [
        "abrd_per_year = Aircrash_data[['Year', 'Aboard']].groupby('Year').sum()\n",
        "abrd_per_year = abrd_per_year.reset_index()"
      ],
      "execution_count": 204,
      "outputs": []
    },
    {
      "cell_type": "code",
      "metadata": {
        "colab": {
          "base_uri": "https://localhost:8080/",
          "height": 298
        },
        "id": "1d-kd15TXWYq",
        "outputId": "d37a8db5-0cbb-4d1a-ac8e-ca8186b9a0b6"
      },
      "source": [
        "sns.lineplot(x = 'Year', y = 'Aboard', data = abrd_per_year)\n",
        "plt.title('Total number of people Aboard Airplanes per Year')\n",
        "plt.xlabel('')\n",
        "plt.ylabel('Count')"
      ],
      "execution_count": 205,
      "outputs": [
        {
          "output_type": "execute_result",
          "data": {
            "text/plain": [
              "Text(0, 0.5, 'Count')"
            ]
          },
          "metadata": {},
          "execution_count": 205
        },
        {
          "output_type": "display_data",
          "data": {
            "image/png": "[encoded data removed]",
            "text/plain": [
              "<Figure size 432x288 with 1 Axes>"
            ]
          },
          "metadata": {
            "needs_background": "light"
          }
        }
      ]
    },
    {
      "cell_type": "code",
      "metadata": {
        "colab": {
          "base_uri": "https://localhost:8080/"
        },
        "id": "Lhd2ulh6XaOf",
        "outputId": "8af1e006-5f3d-457a-b7f8-3a475f45c3ae"
      },
      "source": [
        "a = sts.pearsonr(Aircrash_data.Fatalities, Aircrash_data.Aboard)\n",
        "b = sts.spearmanr(Aircrash_data.Fatalities, Aircrash_data.Aboard)\n",
        "print ('Pearson Correlation constant : ',a[0],'\\nSpearman Correlation constant : ',b[0])"
      ],
      "execution_count": 206,
      "outputs": [
        {
          "output_type": "stream",
          "name": "stdout",
          "text": [
            "Pearson Correlation constant :  0.7569242287226606 \n",
            "Spearman Correlation constant :  0.7729747858599402\n"
          ]
        }
      ]
    },
    {
      "cell_type": "code",
      "metadata": {
        "id": "tSZxHTFvXebd"
      },
      "source": [
        "FSG_per_year = Aircrash_data[['Year', 'Fatalities', 'Survived', 'Ground']].groupby('Year').sum()\n",
        "FSG_per_year = FSG_per_year.reset_index()"
      ],
      "execution_count": 207,
      "outputs": []
    },
    {
      "cell_type": "code",
      "metadata": {
        "colab": {
          "base_uri": "https://localhost:8080/",
          "height": 298
        },
        "id": "SoT0n45zYaJy",
        "outputId": "40124e10-2c2e-489b-a3c1-cc91f5c3352c"
      },
      "source": [
        "sns.lineplot(x = 'Year', y = 'Fatalities', data = FSG_per_year)\n",
        "sns.lineplot(x = 'Year', y = 'Survived', data = FSG_per_year)\n",
        "sns.lineplot(x = 'Year', y = 'Ground', data = FSG_per_year)\n",
        "plt.legend(['Fatalities', 'Survival', 'Ground'])\n",
        "plt.xlabel('')\n",
        "plt.ylabel('Count')\n",
        "plt.title('Fatalities vs Survived vs Killed on Ground per Year')"
      ],
      "execution_count": 208,
      "outputs": [
        {
          "output_type": "execute_result",
          "data": {
            "text/plain": [
              "Text(0.5, 1.0, 'Fatalities vs Survived vs Killed on Ground per Year')"
            ]
          },
          "metadata": {},
          "execution_count": 208
        },
        {
          "output_type": "display_data",
          "data": {
            "image/png": "[encoded data removed]",
            "text/plain": [
              "<Figure size 432x288 with 1 Axes>"
            ]
          },
          "metadata": {
            "needs_background": "light"
          }
        }
      ]
    },
    {
      "cell_type": "code",
      "metadata": {
        "colab": {
          "base_uri": "https://localhost:8080/",
          "height": 161
        },
        "id": "gltg8-l3Ycw8",
        "outputId": "3f464bd3-effa-4765-fa6a-18a74bb64edd"
      },
      "source": [
        "Aircrash_data[Aircrash_data['Ground'] == Aircrash_data['Ground'].max()]"
      ],
      "execution_count": 209,
      "outputs": [
        {
          "output_type": "execute_result",
          "data": {
            "text/html": [
              "<div>\n",
              "<style scoped>\n",
              "    .dataframe tbody tr th:only-of-type {\n",
              "        vertical-align: middle;\n",
              "    }\n",
              "\n",
              "    .dataframe tbody tr th {\n",
              "        vertical-align: top;\n",
              "    }\n",
              "\n",
              "    .dataframe thead th {\n",
              "        text-align: right;\n",
              "    }\n",
              "</style>\n",
              "<table border=\"1\" class=\"dataframe\">\n",
              "  <thead>\n",
              "    <tr style=\"text-align: right;\">\n",
              "      <th></th>\n",
              "      <th>Date</th>\n",
              "      <th>Time</th>\n",
              "      <th>Location</th>\n",
              "      <th>Operator</th>\n",
              "      <th>Flight #</th>\n",
              "      <th>Route</th>\n",
              "      <th>Type</th>\n",
              "      <th>Registration</th>\n",
              "      <th>cn/In</th>\n",
              "      <th>Aboard</th>\n",
              "      <th>Fatalities</th>\n",
              "      <th>Ground</th>\n",
              "      <th>Summary</th>\n",
              "      <th>Year</th>\n",
              "      <th>Survived</th>\n",
              "    </tr>\n",
              "  </thead>\n",
              "  <tbody>\n",
              "    <tr>\n",
              "      <th>4803</th>\n",
              "      <td>09/11/2001</td>\n",
              "      <td>08:47</td>\n",
              "      <td>New York City, New York</td>\n",
              "      <td>American Airlines</td>\n",
              "      <td>11</td>\n",
              "      <td>Boston - Los Angeles</td>\n",
              "      <td>Boeing 767-223ER</td>\n",
              "      <td>N334AA</td>\n",
              "      <td>22332/169</td>\n",
              "      <td>92.0</td>\n",
              "      <td>92.0</td>\n",
              "      <td>2750.0</td>\n",
              "      <td>The aircraft was hijacked shortly after it lef...</td>\n",
              "      <td>2001</td>\n",
              "      <td>0.0</td>\n",
              "    </tr>\n",
              "    <tr>\n",
              "      <th>4804</th>\n",
              "      <td>09/11/2001</td>\n",
              "      <td>09:03</td>\n",
              "      <td>New York City, New York</td>\n",
              "      <td>United Air Lines</td>\n",
              "      <td>175</td>\n",
              "      <td>Boston - Los Angeles</td>\n",
              "      <td>Boeing B-767-222</td>\n",
              "      <td>N612UA</td>\n",
              "      <td>21873/41</td>\n",
              "      <td>65.0</td>\n",
              "      <td>65.0</td>\n",
              "      <td>2750.0</td>\n",
              "      <td>The aircraft was hijacked shortly after it lef...</td>\n",
              "      <td>2001</td>\n",
              "      <td>0.0</td>\n",
              "    </tr>\n",
              "  </tbody>\n",
              "</table>\n",
              "</div>"
            ],
            "text/plain": [
              "            Date   Time  ...  Year Survived\n",
              "4803  09/11/2001  08:47  ...  2001      0.0\n",
              "4804  09/11/2001  09:03  ...  2001      0.0\n",
              "\n",
              "[2 rows x 15 columns]"
            ]
          },
          "metadata": {},
          "execution_count": 209
        }
      ]
    },
    {
      "cell_type": "code",
      "metadata": {
        "id": "hTFOCwyTgCSq"
      },
      "source": [
        "df = Aircrash_data\n",
        "df['Operator'] = df['Operator'].str.lower()"
      ],
      "execution_count": 210,
      "outputs": []
    },
    {
      "cell_type": "code",
      "metadata": {
        "id": "rVudwW5kgrz7"
      },
      "source": [
        "df['Military'] = df['Operator'].str.contains('military')"
      ],
      "execution_count": 211,
      "outputs": []
    },
    {
      "cell_type": "code",
      "metadata": {
        "id": "lkIYpUlfhto3"
      },
      "source": [
        ""
      ],
      "execution_count": 211,
      "outputs": []
    },
    {
      "cell_type": "code",
      "metadata": {
        "colab": {
          "base_uri": "https://localhost:8080/"
        },
        "id": "sAHjltbch8rM",
        "outputId": "1388b6e5-241d-4390-da61-8b47e0b46a25"
      },
      "source": [
        "df.groupby(['Military']).count()['Date']"
      ],
      "execution_count": 212,
      "outputs": [
        {
          "output_type": "execute_result",
          "data": {
            "text/plain": [
              "Military\n",
              "False    4469\n",
              "True      781\n",
              "Name: Date, dtype: int64"
            ]
          },
          "metadata": {},
          "execution_count": 212
        }
      ]
    },
    {
      "cell_type": "code",
      "metadata": {
        "colab": {
          "base_uri": "https://localhost:8080/",
          "height": 281
        },
        "id": "lrSLdlDFjWPr",
        "outputId": "cf1d6746-7921-426e-c01c-d65b7449d8fa"
      },
      "source": [
        "dfm = df[df['Military'] == True]\n",
        "dfp = df[df['Military'] == False]\n",
        "\n",
        "dfm = pd.DataFrame(dfm.groupby('Year').count()['Date'])\n",
        "dfm.sort_values('Year',inplace=True)\n",
        "dfm.reset_index(inplace = True)\n",
        "dfm.columns = ['Year','Military']\n",
        "\n",
        "dfp = pd.DataFrame(dfp.groupby('Year').count()['Date'])\n",
        "dfp.sort_values('Year',inplace=True)\n",
        "dfp.reset_index(inplace = True)\n",
        "dfp.columns = ['Year','Passenger']\n",
        "\n",
        "plt.plot(dfm['Year'], dfm['Military'], label = 'Military', color='lightskyblue', marker = \".\", linewidth=1)\n",
        "plt.plot(dfp['Year'], dfp['Passenger'], label = 'Passenger', color='yellowgreen', marker = \".\", linewidth=1)\n",
        "plt.legend()\n",
        "plt.title('Number of military and passenger accidents by year')\n",
        "plt.show()"
      ],
      "execution_count": 213,
      "outputs": [
        {
          "output_type": "display_data",
          "data": {
            "image/png": "[encoded data removed]",
            "text/plain": [
              "<Figure size 432x288 with 1 Axes>"
            ]
          },
          "metadata": {
            "needs_background": "light"
          }
        }
      ]
    },
    {
      "cell_type": "markdown",
      "metadata": {
        "id": "qU8oVWvNo2zh"
      },
      "source": [
        "Operator Analysis"
      ]
    },
    {
      "cell_type": "code",
      "metadata": {
        "colab": {
          "base_uri": "https://localhost:8080/",
          "height": 304
        },
        "id": "xIkwggmjm378",
        "outputId": "d292a60a-0e53-4b69-f563-53682f241a6b"
      },
      "source": [
        "df.head()"
      ],
      "execution_count": 214,
      "outputs": [
        {
          "output_type": "execute_result",
          "data": {
            "text/html": [
              "<div>\n",
              "<style scoped>\n",
              "    .dataframe tbody tr th:only-of-type {\n",
              "        vertical-align: middle;\n",
              "    }\n",
              "\n",
              "    .dataframe tbody tr th {\n",
              "        vertical-align: top;\n",
              "    }\n",
              "\n",
              "    .dataframe thead th {\n",
              "        text-align: right;\n",
              "    }\n",
              "</style>\n",
              "<table border=\"1\" class=\"dataframe\">\n",
              "  <thead>\n",
              "    <tr style=\"text-align: right;\">\n",
              "      <th></th>\n",
              "      <th>Date</th>\n",
              "      <th>Time</th>\n",
              "      <th>Location</th>\n",
              "      <th>Operator</th>\n",
              "      <th>Flight #</th>\n",
              "      <th>Route</th>\n",
              "      <th>Type</th>\n",
              "      <th>Registration</th>\n",
              "      <th>cn/In</th>\n",
              "      <th>Aboard</th>\n",
              "      <th>Fatalities</th>\n",
              "      <th>Ground</th>\n",
              "      <th>Summary</th>\n",
              "      <th>Year</th>\n",
              "      <th>Survived</th>\n",
              "      <th>Military</th>\n",
              "    </tr>\n",
              "  </thead>\n",
              "  <tbody>\n",
              "    <tr>\n",
              "      <th>0</th>\n",
              "      <td>09/17/1908</td>\n",
              "      <td>17:18</td>\n",
              "      <td>Fort Myer, Virginia</td>\n",
              "      <td>military - u.s. army</td>\n",
              "      <td>NaN</td>\n",
              "      <td>Demonstration</td>\n",
              "      <td>Wright Flyer III</td>\n",
              "      <td>NaN</td>\n",
              "      <td>1</td>\n",
              "      <td>2.0</td>\n",
              "      <td>1.0</td>\n",
              "      <td>0.0</td>\n",
              "      <td>During a demonstration flight, a U.S. Army fly...</td>\n",
              "      <td>1908</td>\n",
              "      <td>1.0</td>\n",
              "      <td>True</td>\n",
              "    </tr>\n",
              "    <tr>\n",
              "      <th>1</th>\n",
              "      <td>07/12/1912</td>\n",
              "      <td>06:30</td>\n",
              "      <td>AtlantiCity, New Jersey</td>\n",
              "      <td>military - u.s. navy</td>\n",
              "      <td>NaN</td>\n",
              "      <td>Test flight</td>\n",
              "      <td>Dirigible</td>\n",
              "      <td>NaN</td>\n",
              "      <td>NaN</td>\n",
              "      <td>5.0</td>\n",
              "      <td>5.0</td>\n",
              "      <td>0.0</td>\n",
              "      <td>First U.S. dirigible Akron exploded just offsh...</td>\n",
              "      <td>1912</td>\n",
              "      <td>0.0</td>\n",
              "      <td>True</td>\n",
              "    </tr>\n",
              "    <tr>\n",
              "      <th>2</th>\n",
              "      <td>08/06/1913</td>\n",
              "      <td>NaN</td>\n",
              "      <td>Victoria, British Columbia, Canada</td>\n",
              "      <td>private</td>\n",
              "      <td>-</td>\n",
              "      <td>NaN</td>\n",
              "      <td>Curtiss seaplane</td>\n",
              "      <td>NaN</td>\n",
              "      <td>NaN</td>\n",
              "      <td>1.0</td>\n",
              "      <td>1.0</td>\n",
              "      <td>0.0</td>\n",
              "      <td>The first fatal airplane accident in Canada oc...</td>\n",
              "      <td>1913</td>\n",
              "      <td>0.0</td>\n",
              "      <td>False</td>\n",
              "    </tr>\n",
              "    <tr>\n",
              "      <th>3</th>\n",
              "      <td>09/09/1913</td>\n",
              "      <td>18:30</td>\n",
              "      <td>Over the North Sea</td>\n",
              "      <td>military - german navy</td>\n",
              "      <td>NaN</td>\n",
              "      <td>NaN</td>\n",
              "      <td>Zeppelin L-1 (airship)</td>\n",
              "      <td>NaN</td>\n",
              "      <td>NaN</td>\n",
              "      <td>20.0</td>\n",
              "      <td>14.0</td>\n",
              "      <td>0.0</td>\n",
              "      <td>The airship flew into a thunderstorm and encou...</td>\n",
              "      <td>1913</td>\n",
              "      <td>6.0</td>\n",
              "      <td>True</td>\n",
              "    </tr>\n",
              "    <tr>\n",
              "      <th>4</th>\n",
              "      <td>10/17/1913</td>\n",
              "      <td>10:30</td>\n",
              "      <td>Near Johannisthal, Germany</td>\n",
              "      <td>military - german navy</td>\n",
              "      <td>NaN</td>\n",
              "      <td>NaN</td>\n",
              "      <td>Zeppelin L-2 (airship)</td>\n",
              "      <td>NaN</td>\n",
              "      <td>NaN</td>\n",
              "      <td>30.0</td>\n",
              "      <td>30.0</td>\n",
              "      <td>0.0</td>\n",
              "      <td>Hydrogen gas which was being vented was sucked...</td>\n",
              "      <td>1913</td>\n",
              "      <td>0.0</td>\n",
              "      <td>True</td>\n",
              "    </tr>\n",
              "  </tbody>\n",
              "</table>\n",
              "</div>"
            ],
            "text/plain": [
              "         Date   Time  ... Survived Military\n",
              "0  09/17/1908  17:18  ...      1.0     True\n",
              "1  07/12/1912  06:30  ...      0.0     True\n",
              "2  08/06/1913    NaN  ...      0.0    False\n",
              "3  09/09/1913  18:30  ...      6.0     True\n",
              "4  10/17/1913  10:30  ...      0.0     True\n",
              "\n",
              "[5 rows x 16 columns]"
            ]
          },
          "metadata": {},
          "execution_count": 214
        }
      ]
    },
    {
      "cell_type": "code",
      "metadata": {
        "id": "1sbdkPh8pCLQ"
      },
      "source": [
        "df['Operator'] = df['Operator'].str.upper()"
      ],
      "execution_count": 221,
      "outputs": []
    },
    {
      "cell_type": "code",
      "metadata": {
        "colab": {
          "base_uri": "https://localhost:8080/",
          "height": 296
        },
        "id": "IfF9HMFop5UH",
        "outputId": "e681faeb-dd2a-41ca-dad8-73aa417b2d64"
      },
      "source": [
        "op = df.groupby('Operator')[['Operator']].count()\n",
        "op.rename(columns = {\"Operator\" : \"Count\"}, inplace= True)\n",
        "op = op.sort_values('Count', ascending = False).head(20)\n",
        "\n",
        "sns.barplot (y = op.index, x = \"Count\", data = op, orient='h')\n",
        "plt.title('Total Crashes by Operator', loc='Center', fontsize=14)\n",
        "plt.show()"
      ],
      "execution_count": 239,
      "outputs": [
        {
          "output_type": "display_data",
          "data": {
            "image/png": "[encoded data removed]",
            "text/plain": [
              "<Figure size 432x288 with 1 Axes>"
            ]
          },
          "metadata": {
            "needs_background": "light"
          }
        }
      ]
    },
    {
      "cell_type": "code",
      "metadata": {
        "colab": {
          "base_uri": "https://localhost:8080/",
          "height": 296
        },
        "id": "rSCSwlG5qSeR",
        "outputId": "b691b0e9-391c-43df-a259-9f766e0b3123"
      },
      "source": [
        "op = df.groupby('Operator').sum() ['Fatalities']\n",
        "op = op.sort_values(ascending = False)\n",
        "op = pd.DataFrame (data = op.head(20))\n",
        "\n",
        "sns.barplot (y = op.index, x = \"Fatalities\", data = op, orient='h')\n",
        "plt.title('Total Fatalities by Operator', loc='Center', fontsize=14)\n",
        "plt.show()"
      ],
      "execution_count": 273,
      "outputs": [
        {
          "output_type": "display_data",
          "data": {
            "image/png": "[encoded data removed]",
            "text/plain": [
              "<Figure size 432x288 with 1 Axes>"
            ]
          },
          "metadata": {
            "needs_background": "light"
          }
        }
      ]
    },
    {
      "cell_type": "code",
      "metadata": {
        "id": "uTOWBagDwNC5"
      },
      "source": [
        ""
      ],
      "execution_count": null,
      "outputs": []
    }
  ]
}