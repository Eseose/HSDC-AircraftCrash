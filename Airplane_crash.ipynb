{
  "nbformat": 4,
  "nbformat_minor": 2,
  "metadata": {
    "kernelspec": {
      "name": "python3",
      "display_name": "Python 3.9.6 64-bit ('new_env': conda)"
    },
    "language_info": {
      "codemirror_mode": {
        "name": "ipython",
        "version": 3
      },
      "file_extension": ".py",
      "mimetype": "text/x-python",
      "name": "python",
      "nbconvert_exporter": "python",
      "pygments_lexer": "ipython3",
      "version": "3.9.6"
    },
    "toc": {
      "base_numbering": 1,
      "nav_menu": {},
      "number_sections": true,
      "sideBar": true,
      "skip_h1_title": false,
      "title_cell": "Table of Contents",
      "title_sidebar": "Contents",
      "toc_cell": false,
      "toc_position": {},
      "toc_section_display": true,
      "toc_window_display": false
    },
    "colab": {
      "name": "Airplane_crash.ipynb",
      "provenance": [],
      "collapsed_sections": []
    },
    "interpreter": {
      "hash": "2ec976ad75385f5b2b94e7f7374525257ff26052a52acc2a2611636513bc2dd9"
    }
  },
  "cells": [
    {
      "cell_type": "markdown",
      "source": [
        "# 1  Project: Investigating Airplane crashes Dataset (Team Vispy)\r\n",
        "##    1.1  Table of Contents\r\n",
        "    \r\n",
        "### Introduction\r\n",
        "### Data Wrangling\r\n",
        "### Exploratory Data Analysis\r\n",
        "### Conclusions\r\n",
        "\r\n"
      ],
      "metadata": {
        "id": "9n4OeaAjI84O"
      }
    },
    {
      "cell_type": "markdown",
      "source": [
        "## 1.2  Introduction\r\n",
        "### This data set contains information about airplane crashes collected from kaggle website data collections, including fatalities,aboard,date,time,operators.\r\n",
        "\r\n",
        "### In this first step, I’ll import the necessary libraries to import the data. After that, I’ll perform some basic commands to understand the structure of the data.\r\n",
        "\r\n",
        "### This analysis looks at two major questions;\r\n",
        "\r\n",
        "### How many plane crashes yearly?\r\n",
        "### How many people were on board?\r\n",
        "### How many survivors were recorded?"
      ],
      "metadata": {
        "id": "weoHCpLbI84R"
      }
    },
    {
      "cell_type": "code",
      "execution_count": 2,
      "source": [
        "#importing numpy and pandas libraries to read the data\r\n",
        "import pandas as pd\r\n",
        "import numpy as np\r\n",
        "\r\n",
        "# Import matplotlib and seaborn libraries to visualize the data\r\n",
        "import matplotlib.pyplot as plt\r\n",
        "import seaborn as sns\r\n",
        "%matplotlib inline\r\n",
        "\r\n",
        "# Supress Warnings\r\n",
        "import warnings\r\n",
        "warnings.filterwarnings('ignore')\r\n",
        "from scipy import stats as sts"
      ],
      "outputs": [],
      "metadata": {
        "id": "WZxeCrCMI84S"
      }
    },
    {
      "cell_type": "code",
      "execution_count": 3,
      "source": [
        "## Data Wrangling\r\n",
        "\r\n",
        "##> **Tip**: In this section of the report, I will load in the data, check for cleanliness, and then trim and clean the dataset for my analysis. \r\n",
        "\r\n"
      ],
      "outputs": [],
      "metadata": {
        "id": "i0efs6hkI84T"
      }
    },
    {
      "cell_type": "code",
      "execution_count": 4,
      "source": [
        "Aircrash_data = pd.read_csv('Airplane_Crashes_and_Fatalities_Since_1908.csv')\r\n",
        "Aircrash_data.head()"
      ],
      "outputs": [
        {
          "output_type": "execute_result",
          "data": {
            "text/html": [
              "<div>\n",
              "<style scoped>\n",
              "    .dataframe tbody tr th:only-of-type {\n",
              "        vertical-align: middle;\n",
              "    }\n",
              "\n",
              "    .dataframe tbody tr th {\n",
              "        vertical-align: top;\n",
              "    }\n",
              "\n",
              "    .dataframe thead th {\n",
              "        text-align: right;\n",
              "    }\n",
              "</style>\n",
              "<table border=\"1\" class=\"dataframe\">\n",
              "  <thead>\n",
              "    <tr style=\"text-align: right;\">\n",
              "      <th></th>\n",
              "      <th>Date</th>\n",
              "      <th>Time</th>\n",
              "      <th>Location</th>\n",
              "      <th>Operator</th>\n",
              "      <th>Flight #</th>\n",
              "      <th>Route</th>\n",
              "      <th>Type</th>\n",
              "      <th>Registration</th>\n",
              "      <th>cn/In</th>\n",
              "      <th>Aboard</th>\n",
              "      <th>Fatalities</th>\n",
              "      <th>Ground</th>\n",
              "      <th>Summary</th>\n",
              "    </tr>\n",
              "  </thead>\n",
              "  <tbody>\n",
              "    <tr>\n",
              "      <th>0</th>\n",
              "      <td>09/17/1908</td>\n",
              "      <td>17:18</td>\n",
              "      <td>Fort Myer, Virginia</td>\n",
              "      <td>Military - U.S. Army</td>\n",
              "      <td>NaN</td>\n",
              "      <td>Demonstration</td>\n",
              "      <td>Wright Flyer III</td>\n",
              "      <td>NaN</td>\n",
              "      <td>1</td>\n",
              "      <td>2.0</td>\n",
              "      <td>1.0</td>\n",
              "      <td>0.0</td>\n",
              "      <td>During a demonstration flight, a U.S. Army fly...</td>\n",
              "    </tr>\n",
              "    <tr>\n",
              "      <th>1</th>\n",
              "      <td>07/12/1912</td>\n",
              "      <td>06:30</td>\n",
              "      <td>AtlantiCity, New Jersey</td>\n",
              "      <td>Military - U.S. Navy</td>\n",
              "      <td>NaN</td>\n",
              "      <td>Test flight</td>\n",
              "      <td>Dirigible</td>\n",
              "      <td>NaN</td>\n",
              "      <td>NaN</td>\n",
              "      <td>5.0</td>\n",
              "      <td>5.0</td>\n",
              "      <td>0.0</td>\n",
              "      <td>First U.S. dirigible Akron exploded just offsh...</td>\n",
              "    </tr>\n",
              "    <tr>\n",
              "      <th>2</th>\n",
              "      <td>08/06/1913</td>\n",
              "      <td>NaN</td>\n",
              "      <td>Victoria, British Columbia, Canada</td>\n",
              "      <td>Private</td>\n",
              "      <td>-</td>\n",
              "      <td>NaN</td>\n",
              "      <td>Curtiss seaplane</td>\n",
              "      <td>NaN</td>\n",
              "      <td>NaN</td>\n",
              "      <td>1.0</td>\n",
              "      <td>1.0</td>\n",
              "      <td>0.0</td>\n",
              "      <td>The first fatal airplane accident in Canada oc...</td>\n",
              "    </tr>\n",
              "    <tr>\n",
              "      <th>3</th>\n",
              "      <td>09/09/1913</td>\n",
              "      <td>18:30</td>\n",
              "      <td>Over the North Sea</td>\n",
              "      <td>Military - German Navy</td>\n",
              "      <td>NaN</td>\n",
              "      <td>NaN</td>\n",
              "      <td>Zeppelin L-1 (airship)</td>\n",
              "      <td>NaN</td>\n",
              "      <td>NaN</td>\n",
              "      <td>20.0</td>\n",
              "      <td>14.0</td>\n",
              "      <td>0.0</td>\n",
              "      <td>The airship flew into a thunderstorm and encou...</td>\n",
              "    </tr>\n",
              "    <tr>\n",
              "      <th>4</th>\n",
              "      <td>10/17/1913</td>\n",
              "      <td>10:30</td>\n",
              "      <td>Near Johannisthal, Germany</td>\n",
              "      <td>Military - German Navy</td>\n",
              "      <td>NaN</td>\n",
              "      <td>NaN</td>\n",
              "      <td>Zeppelin L-2 (airship)</td>\n",
              "      <td>NaN</td>\n",
              "      <td>NaN</td>\n",
              "      <td>30.0</td>\n",
              "      <td>30.0</td>\n",
              "      <td>0.0</td>\n",
              "      <td>Hydrogen gas which was being vented was sucked...</td>\n",
              "    </tr>\n",
              "  </tbody>\n",
              "</table>\n",
              "</div>"
            ],
            "text/plain": [
              "         Date   Time                            Location  \\\n",
              "0  09/17/1908  17:18                 Fort Myer, Virginia   \n",
              "1  07/12/1912  06:30             AtlantiCity, New Jersey   \n",
              "2  08/06/1913    NaN  Victoria, British Columbia, Canada   \n",
              "3  09/09/1913  18:30                  Over the North Sea   \n",
              "4  10/17/1913  10:30          Near Johannisthal, Germany   \n",
              "\n",
              "                 Operator Flight #          Route                    Type  \\\n",
              "0    Military - U.S. Army      NaN  Demonstration        Wright Flyer III   \n",
              "1    Military - U.S. Navy      NaN    Test flight               Dirigible   \n",
              "2                 Private        -            NaN        Curtiss seaplane   \n",
              "3  Military - German Navy      NaN            NaN  Zeppelin L-1 (airship)   \n",
              "4  Military - German Navy      NaN            NaN  Zeppelin L-2 (airship)   \n",
              "\n",
              "  Registration cn/In  Aboard  Fatalities  Ground  \\\n",
              "0          NaN     1     2.0         1.0     0.0   \n",
              "1          NaN   NaN     5.0         5.0     0.0   \n",
              "2          NaN   NaN     1.0         1.0     0.0   \n",
              "3          NaN   NaN    20.0        14.0     0.0   \n",
              "4          NaN   NaN    30.0        30.0     0.0   \n",
              "\n",
              "                                             Summary  \n",
              "0  During a demonstration flight, a U.S. Army fly...  \n",
              "1  First U.S. dirigible Akron exploded just offsh...  \n",
              "2  The first fatal airplane accident in Canada oc...  \n",
              "3  The airship flew into a thunderstorm and encou...  \n",
              "4  Hydrogen gas which was being vented was sucked...  "
            ]
          },
          "metadata": {},
          "execution_count": 4
        }
      ],
      "metadata": {
        "colab": {
          "base_uri": "https://localhost:8080/",
          "height": 502
        },
        "id": "9-R-o282I84T",
        "outputId": "f1c9ee15-c392-4a94-9eb6-90c43da2747e"
      }
    },
    {
      "cell_type": "code",
      "execution_count": 5,
      "source": [
        "#Some summary statistics for the dataset\r\n",
        "#Using describe, I’ll see whether there is any sudden jump in the data’s values.\r\n",
        "Aircrash_data.describe()"
      ],
      "outputs": [
        {
          "output_type": "execute_result",
          "data": {
            "text/html": [
              "<div>\n",
              "<style scoped>\n",
              "    .dataframe tbody tr th:only-of-type {\n",
              "        vertical-align: middle;\n",
              "    }\n",
              "\n",
              "    .dataframe tbody tr th {\n",
              "        vertical-align: top;\n",
              "    }\n",
              "\n",
              "    .dataframe thead th {\n",
              "        text-align: right;\n",
              "    }\n",
              "</style>\n",
              "<table border=\"1\" class=\"dataframe\">\n",
              "  <thead>\n",
              "    <tr style=\"text-align: right;\">\n",
              "      <th></th>\n",
              "      <th>Aboard</th>\n",
              "      <th>Fatalities</th>\n",
              "      <th>Ground</th>\n",
              "    </tr>\n",
              "  </thead>\n",
              "  <tbody>\n",
              "    <tr>\n",
              "      <th>count</th>\n",
              "      <td>5246.000000</td>\n",
              "      <td>5256.000000</td>\n",
              "      <td>5246.000000</td>\n",
              "    </tr>\n",
              "    <tr>\n",
              "      <th>mean</th>\n",
              "      <td>27.554518</td>\n",
              "      <td>20.068303</td>\n",
              "      <td>1.608845</td>\n",
              "    </tr>\n",
              "    <tr>\n",
              "      <th>std</th>\n",
              "      <td>43.076711</td>\n",
              "      <td>33.199952</td>\n",
              "      <td>53.987827</td>\n",
              "    </tr>\n",
              "    <tr>\n",
              "      <th>min</th>\n",
              "      <td>0.000000</td>\n",
              "      <td>0.000000</td>\n",
              "      <td>0.000000</td>\n",
              "    </tr>\n",
              "    <tr>\n",
              "      <th>25%</th>\n",
              "      <td>5.000000</td>\n",
              "      <td>3.000000</td>\n",
              "      <td>0.000000</td>\n",
              "    </tr>\n",
              "    <tr>\n",
              "      <th>50%</th>\n",
              "      <td>13.000000</td>\n",
              "      <td>9.000000</td>\n",
              "      <td>0.000000</td>\n",
              "    </tr>\n",
              "    <tr>\n",
              "      <th>75%</th>\n",
              "      <td>30.000000</td>\n",
              "      <td>23.000000</td>\n",
              "      <td>0.000000</td>\n",
              "    </tr>\n",
              "    <tr>\n",
              "      <th>max</th>\n",
              "      <td>644.000000</td>\n",
              "      <td>583.000000</td>\n",
              "      <td>2750.000000</td>\n",
              "    </tr>\n",
              "  </tbody>\n",
              "</table>\n",
              "</div>"
            ],
            "text/plain": [
              "            Aboard   Fatalities       Ground\n",
              "count  5246.000000  5256.000000  5246.000000\n",
              "mean     27.554518    20.068303     1.608845\n",
              "std      43.076711    33.199952    53.987827\n",
              "min       0.000000     0.000000     0.000000\n",
              "25%       5.000000     3.000000     0.000000\n",
              "50%      13.000000     9.000000     0.000000\n",
              "75%      30.000000    23.000000     0.000000\n",
              "max     644.000000   583.000000  2750.000000"
            ]
          },
          "metadata": {},
          "execution_count": 5
        }
      ],
      "metadata": {
        "colab": {
          "base_uri": "https://localhost:8080/",
          "height": 299
        },
        "id": "Cde7VH0aI84U",
        "outputId": "eb8199bc-63dc-4e2e-c97e-6cfcf2bbfcc9"
      }
    },
    {
      "cell_type": "code",
      "execution_count": 6,
      "source": [
        "# see summary of Categorical columns\r\n",
        "Aircrash_data.describe(include=['O'])"
      ],
      "outputs": [
        {
          "output_type": "execute_result",
          "data": {
            "text/html": [
              "<div>\n",
              "<style scoped>\n",
              "    .dataframe tbody tr th:only-of-type {\n",
              "        vertical-align: middle;\n",
              "    }\n",
              "\n",
              "    .dataframe tbody tr th {\n",
              "        vertical-align: top;\n",
              "    }\n",
              "\n",
              "    .dataframe thead th {\n",
              "        text-align: right;\n",
              "    }\n",
              "</style>\n",
              "<table border=\"1\" class=\"dataframe\">\n",
              "  <thead>\n",
              "    <tr style=\"text-align: right;\">\n",
              "      <th></th>\n",
              "      <th>Date</th>\n",
              "      <th>Time</th>\n",
              "      <th>Location</th>\n",
              "      <th>Operator</th>\n",
              "      <th>Flight #</th>\n",
              "      <th>Route</th>\n",
              "      <th>Type</th>\n",
              "      <th>Registration</th>\n",
              "      <th>cn/In</th>\n",
              "      <th>Summary</th>\n",
              "    </tr>\n",
              "  </thead>\n",
              "  <tbody>\n",
              "    <tr>\n",
              "      <th>count</th>\n",
              "      <td>5268</td>\n",
              "      <td>3049</td>\n",
              "      <td>5248</td>\n",
              "      <td>5250</td>\n",
              "      <td>1069</td>\n",
              "      <td>3562</td>\n",
              "      <td>5241</td>\n",
              "      <td>4933</td>\n",
              "      <td>4040</td>\n",
              "      <td>4878</td>\n",
              "    </tr>\n",
              "    <tr>\n",
              "      <th>unique</th>\n",
              "      <td>4753</td>\n",
              "      <td>1005</td>\n",
              "      <td>4303</td>\n",
              "      <td>2476</td>\n",
              "      <td>724</td>\n",
              "      <td>3244</td>\n",
              "      <td>2446</td>\n",
              "      <td>4905</td>\n",
              "      <td>3707</td>\n",
              "      <td>4673</td>\n",
              "    </tr>\n",
              "    <tr>\n",
              "      <th>top</th>\n",
              "      <td>09/11/2001</td>\n",
              "      <td>15:00</td>\n",
              "      <td>Sao Paulo, Brazil</td>\n",
              "      <td>Aeroflot</td>\n",
              "      <td>-</td>\n",
              "      <td>Training</td>\n",
              "      <td>Douglas DC-3</td>\n",
              "      <td>49</td>\n",
              "      <td>178</td>\n",
              "      <td>Crashed during takeoff.</td>\n",
              "    </tr>\n",
              "    <tr>\n",
              "      <th>freq</th>\n",
              "      <td>4</td>\n",
              "      <td>32</td>\n",
              "      <td>15</td>\n",
              "      <td>179</td>\n",
              "      <td>67</td>\n",
              "      <td>81</td>\n",
              "      <td>334</td>\n",
              "      <td>3</td>\n",
              "      <td>6</td>\n",
              "      <td>15</td>\n",
              "    </tr>\n",
              "  </tbody>\n",
              "</table>\n",
              "</div>"
            ],
            "text/plain": [
              "              Date   Time           Location  Operator Flight #     Route  \\\n",
              "count         5268   3049               5248      5250     1069      3562   \n",
              "unique        4753   1005               4303      2476      724      3244   \n",
              "top     09/11/2001  15:00  Sao Paulo, Brazil  Aeroflot        -  Training   \n",
              "freq             4     32                 15       179       67        81   \n",
              "\n",
              "                Type Registration cn/In                  Summary  \n",
              "count           5241         4933  4040                     4878  \n",
              "unique          2446         4905  3707                     4673  \n",
              "top     Douglas DC-3           49   178  Crashed during takeoff.  \n",
              "freq             334            3     6                       15  "
            ]
          },
          "metadata": {},
          "execution_count": 6
        }
      ],
      "metadata": {
        "colab": {
          "base_uri": "https://localhost:8080/",
          "height": 226
        },
        "id": "3JQ0ntFRHqMB",
        "outputId": "756f4730-882e-453d-828d-76bd606c6484"
      }
    },
    {
      "cell_type": "code",
      "execution_count": 7,
      "source": [
        "#Info on the dataset.\r\n",
        "#Using the info to see whether there are any null values in the data. so I can manipulate the data and drop what we will not be using.\r\n",
        "\r\n",
        "Aircrash_data.info()"
      ],
      "outputs": [
        {
          "output_type": "stream",
          "name": "stdout",
          "text": [
            "<class 'pandas.core.frame.DataFrame'>\n",
            "RangeIndex: 5268 entries, 0 to 5267\n",
            "Data columns (total 13 columns):\n",
            " #   Column        Non-Null Count  Dtype  \n",
            "---  ------        --------------  -----  \n",
            " 0   Date          5268 non-null   object \n",
            " 1   Time          3049 non-null   object \n",
            " 2   Location      5248 non-null   object \n",
            " 3   Operator      5250 non-null   object \n",
            " 4   Flight #      1069 non-null   object \n",
            " 5   Route         3562 non-null   object \n",
            " 6   Type          5241 non-null   object \n",
            " 7   Registration  4933 non-null   object \n",
            " 8   cn/In         4040 non-null   object \n",
            " 9   Aboard        5246 non-null   float64\n",
            " 10  Fatalities    5256 non-null   float64\n",
            " 11  Ground        5246 non-null   float64\n",
            " 12  Summary       4878 non-null   object \n",
            "dtypes: float64(3), object(10)\n",
            "memory usage: 535.2+ KB\n"
          ]
        }
      ],
      "metadata": {
        "colab": {
          "base_uri": "https://localhost:8080/"
        },
        "id": "WJT88xXMI84U",
        "outputId": "d5df319d-fe5b-49a6-f1bf-3c65cfb38f2c"
      }
    },
    {
      "cell_type": "code",
      "execution_count": 8,
      "source": [
        "Aircrash_data.shape"
      ],
      "outputs": [
        {
          "output_type": "execute_result",
          "data": {
            "text/plain": [
              "(5268, 13)"
            ]
          },
          "metadata": {},
          "execution_count": 8
        }
      ],
      "metadata": {
        "colab": {
          "base_uri": "https://localhost:8080/"
        },
        "id": "pO3r1QhaI84V",
        "outputId": "80a91565-e78f-47b3-de52-8f3187e9d803"
      }
    },
    {
      "cell_type": "code",
      "execution_count": 9,
      "source": [
        "#looking for missing values\r\n",
        "Aircrash_data.isnull().sum()"
      ],
      "outputs": [
        {
          "output_type": "execute_result",
          "data": {
            "text/plain": [
              "Date               0\n",
              "Time            2219\n",
              "Location          20\n",
              "Operator          18\n",
              "Flight #        4199\n",
              "Route           1706\n",
              "Type              27\n",
              "Registration     335\n",
              "cn/In           1228\n",
              "Aboard            22\n",
              "Fatalities        12\n",
              "Ground            22\n",
              "Summary          390\n",
              "dtype: int64"
            ]
          },
          "metadata": {},
          "execution_count": 9
        }
      ],
      "metadata": {
        "colab": {
          "base_uri": "https://localhost:8080/"
        },
        "id": "EgRBcGmVSys-",
        "outputId": "eff36688-4cce-4c07-d5b1-f888934243a8"
      }
    },
    {
      "cell_type": "code",
      "execution_count": 10,
      "source": [
        "# We clean the data by filling empty values of fatalities, aboard and ground with 0\r\n",
        "\r\n",
        "Aircrash_data['Fatalities'].fillna(0, inplace = True)\r\n",
        "Aircrash_data['Aboard'].fillna(0, inplace = True)\r\n",
        "Aircrash_data['Ground'].fillna(0, inplace = True)"
      ],
      "outputs": [],
      "metadata": {
        "id": "kyt6iyN7ZQo5"
      }
    },
    {
      "cell_type": "code",
      "execution_count": 11,
      "source": [
        "# We clean the 'Date' column into a more usable and familiar form\r\n",
        "\r\n",
        "Aircrash_data['Date'] = pd.to_datetime(Aircrash_data['Date'])\r\n",
        "Aircrash_data['Date'] = Aircrash_data['Date'].dt.strftime(\"%m/%d/%Y\")\r\n",
        "Aircrash_data['Date'].head(5)"
      ],
      "outputs": [
        {
          "output_type": "execute_result",
          "data": {
            "text/plain": [
              "0    09/17/1908\n",
              "1    07/12/1912\n",
              "2    08/06/1913\n",
              "3    09/09/1913\n",
              "4    10/17/1913\n",
              "Name: Date, dtype: object"
            ]
          },
          "metadata": {},
          "execution_count": 11
        }
      ],
      "metadata": {
        "colab": {
          "base_uri": "https://localhost:8080/"
        },
        "id": "8zcjqZBYZdfH",
        "outputId": "49fc7c03-d6bc-4839-adff-2a7c228c32e2"
      }
    },
    {
      "cell_type": "code",
      "execution_count": 12,
      "source": [
        "# A separate column for 'Year' is created keeping in mind future analysis\r\n",
        "\r\n",
        "Aircrash_data['Year'] = pd.DatetimeIndex(Aircrash_data['Date']).year\r\n",
        "Aircrash_data['Year'].head(5)"
      ],
      "outputs": [
        {
          "output_type": "execute_result",
          "data": {
            "text/plain": [
              "0    1908\n",
              "1    1912\n",
              "2    1913\n",
              "3    1913\n",
              "4    1913\n",
              "Name: Year, dtype: int64"
            ]
          },
          "metadata": {},
          "execution_count": 12
        }
      ],
      "metadata": {
        "colab": {
          "base_uri": "https://localhost:8080/"
        },
        "id": "vhSROnmBZogY",
        "outputId": "18827bf0-de47-4d4d-d824-4ba4f0046873"
      }
    },
    {
      "cell_type": "code",
      "execution_count": 13,
      "source": [
        "# We create a column 'Survived' to find number of survivors\r\n",
        "\r\n",
        "Aircrash_data['Survived'] = Aircrash_data['Aboard'] - Aircrash_data['Fatalities']\r\n",
        "Aircrash_data['Survived'].fillna(0, inplace = True)"
      ],
      "outputs": [],
      "metadata": {
        "id": "AnkjokrvZvbo"
      }
    },
    {
      "cell_type": "code",
      "execution_count": 14,
      "source": [
        "Aircrash_data.head()"
      ],
      "outputs": [
        {
          "output_type": "execute_result",
          "data": {
            "text/html": [
              "<div>\n",
              "<style scoped>\n",
              "    .dataframe tbody tr th:only-of-type {\n",
              "        vertical-align: middle;\n",
              "    }\n",
              "\n",
              "    .dataframe tbody tr th {\n",
              "        vertical-align: top;\n",
              "    }\n",
              "\n",
              "    .dataframe thead th {\n",
              "        text-align: right;\n",
              "    }\n",
              "</style>\n",
              "<table border=\"1\" class=\"dataframe\">\n",
              "  <thead>\n",
              "    <tr style=\"text-align: right;\">\n",
              "      <th></th>\n",
              "      <th>Date</th>\n",
              "      <th>Time</th>\n",
              "      <th>Location</th>\n",
              "      <th>Operator</th>\n",
              "      <th>Flight #</th>\n",
              "      <th>Route</th>\n",
              "      <th>Type</th>\n",
              "      <th>Registration</th>\n",
              "      <th>cn/In</th>\n",
              "      <th>Aboard</th>\n",
              "      <th>Fatalities</th>\n",
              "      <th>Ground</th>\n",
              "      <th>Summary</th>\n",
              "      <th>Year</th>\n",
              "      <th>Survived</th>\n",
              "    </tr>\n",
              "  </thead>\n",
              "  <tbody>\n",
              "    <tr>\n",
              "      <th>0</th>\n",
              "      <td>09/17/1908</td>\n",
              "      <td>17:18</td>\n",
              "      <td>Fort Myer, Virginia</td>\n",
              "      <td>Military - U.S. Army</td>\n",
              "      <td>NaN</td>\n",
              "      <td>Demonstration</td>\n",
              "      <td>Wright Flyer III</td>\n",
              "      <td>NaN</td>\n",
              "      <td>1</td>\n",
              "      <td>2.0</td>\n",
              "      <td>1.0</td>\n",
              "      <td>0.0</td>\n",
              "      <td>During a demonstration flight, a U.S. Army fly...</td>\n",
              "      <td>1908</td>\n",
              "      <td>1.0</td>\n",
              "    </tr>\n",
              "    <tr>\n",
              "      <th>1</th>\n",
              "      <td>07/12/1912</td>\n",
              "      <td>06:30</td>\n",
              "      <td>AtlantiCity, New Jersey</td>\n",
              "      <td>Military - U.S. Navy</td>\n",
              "      <td>NaN</td>\n",
              "      <td>Test flight</td>\n",
              "      <td>Dirigible</td>\n",
              "      <td>NaN</td>\n",
              "      <td>NaN</td>\n",
              "      <td>5.0</td>\n",
              "      <td>5.0</td>\n",
              "      <td>0.0</td>\n",
              "      <td>First U.S. dirigible Akron exploded just offsh...</td>\n",
              "      <td>1912</td>\n",
              "      <td>0.0</td>\n",
              "    </tr>\n",
              "    <tr>\n",
              "      <th>2</th>\n",
              "      <td>08/06/1913</td>\n",
              "      <td>NaN</td>\n",
              "      <td>Victoria, British Columbia, Canada</td>\n",
              "      <td>Private</td>\n",
              "      <td>-</td>\n",
              "      <td>NaN</td>\n",
              "      <td>Curtiss seaplane</td>\n",
              "      <td>NaN</td>\n",
              "      <td>NaN</td>\n",
              "      <td>1.0</td>\n",
              "      <td>1.0</td>\n",
              "      <td>0.0</td>\n",
              "      <td>The first fatal airplane accident in Canada oc...</td>\n",
              "      <td>1913</td>\n",
              "      <td>0.0</td>\n",
              "    </tr>\n",
              "    <tr>\n",
              "      <th>3</th>\n",
              "      <td>09/09/1913</td>\n",
              "      <td>18:30</td>\n",
              "      <td>Over the North Sea</td>\n",
              "      <td>Military - German Navy</td>\n",
              "      <td>NaN</td>\n",
              "      <td>NaN</td>\n",
              "      <td>Zeppelin L-1 (airship)</td>\n",
              "      <td>NaN</td>\n",
              "      <td>NaN</td>\n",
              "      <td>20.0</td>\n",
              "      <td>14.0</td>\n",
              "      <td>0.0</td>\n",
              "      <td>The airship flew into a thunderstorm and encou...</td>\n",
              "      <td>1913</td>\n",
              "      <td>6.0</td>\n",
              "    </tr>\n",
              "    <tr>\n",
              "      <th>4</th>\n",
              "      <td>10/17/1913</td>\n",
              "      <td>10:30</td>\n",
              "      <td>Near Johannisthal, Germany</td>\n",
              "      <td>Military - German Navy</td>\n",
              "      <td>NaN</td>\n",
              "      <td>NaN</td>\n",
              "      <td>Zeppelin L-2 (airship)</td>\n",
              "      <td>NaN</td>\n",
              "      <td>NaN</td>\n",
              "      <td>30.0</td>\n",
              "      <td>30.0</td>\n",
              "      <td>0.0</td>\n",
              "      <td>Hydrogen gas which was being vented was sucked...</td>\n",
              "      <td>1913</td>\n",
              "      <td>0.0</td>\n",
              "    </tr>\n",
              "  </tbody>\n",
              "</table>\n",
              "</div>"
            ],
            "text/plain": [
              "         Date   Time                            Location  \\\n",
              "0  09/17/1908  17:18                 Fort Myer, Virginia   \n",
              "1  07/12/1912  06:30             AtlantiCity, New Jersey   \n",
              "2  08/06/1913    NaN  Victoria, British Columbia, Canada   \n",
              "3  09/09/1913  18:30                  Over the North Sea   \n",
              "4  10/17/1913  10:30          Near Johannisthal, Germany   \n",
              "\n",
              "                 Operator Flight #          Route                    Type  \\\n",
              "0    Military - U.S. Army      NaN  Demonstration        Wright Flyer III   \n",
              "1    Military - U.S. Navy      NaN    Test flight               Dirigible   \n",
              "2                 Private        -            NaN        Curtiss seaplane   \n",
              "3  Military - German Navy      NaN            NaN  Zeppelin L-1 (airship)   \n",
              "4  Military - German Navy      NaN            NaN  Zeppelin L-2 (airship)   \n",
              "\n",
              "  Registration cn/In  Aboard  Fatalities  Ground  \\\n",
              "0          NaN     1     2.0         1.0     0.0   \n",
              "1          NaN   NaN     5.0         5.0     0.0   \n",
              "2          NaN   NaN     1.0         1.0     0.0   \n",
              "3          NaN   NaN    20.0        14.0     0.0   \n",
              "4          NaN   NaN    30.0        30.0     0.0   \n",
              "\n",
              "                                             Summary  Year  Survived  \n",
              "0  During a demonstration flight, a U.S. Army fly...  1908       1.0  \n",
              "1  First U.S. dirigible Akron exploded just offsh...  1912       0.0  \n",
              "2  The first fatal airplane accident in Canada oc...  1913       0.0  \n",
              "3  The airship flew into a thunderstorm and encou...  1913       6.0  \n",
              "4  Hydrogen gas which was being vented was sucked...  1913       0.0  "
            ]
          },
          "metadata": {},
          "execution_count": 14
        }
      ],
      "metadata": {
        "colab": {
          "base_uri": "https://localhost:8080/",
          "height": 502
        },
        "id": "ApNyQv7pZ07I",
        "outputId": "7b101e8d-4e9d-452b-b18e-fe74958f22d5"
      }
    },
    {
      "cell_type": "code",
      "execution_count": 15,
      "source": [
        "#Exploratory Data Analysis\r\n",
        "\r\n",
        "##> **Tip**: Now that you've trimmed and cleaned your data, you're ready to move on to exploration. Compute statistics and create visualizations with the goal of addressing the research questions that you posed in the Introduction section. It is recommended that you be systematic with your approach. Look at one variable at a time, and then follow it up by looking at relationships between variables.\r\n"
      ],
      "outputs": [],
      "metadata": {
        "id": "AbAwmgqpI84W"
      }
    },
    {
      "cell_type": "code",
      "execution_count": 16,
      "source": [
        "# Total crashes per year\r\n",
        "\r\n",
        "total_crashes_year = Aircrash_data[['Year', 'Date']].groupby('Year').count()\r\n",
        "total_crashes_year = total_crashes_year.reset_index()\r\n",
        "total_crashes_year.columns = ['Year', 'Crashes']\r\n"
      ],
      "outputs": [],
      "metadata": {
        "id": "k8BtUktldkrB"
      }
    },
    {
      "cell_type": "code",
      "execution_count": 17,
      "source": [
        "sns.lineplot(x = 'Year', y = 'Crashes', data = total_crashes_year)\r\n",
        "plt.title('Total Airplane Crashes per Year')\r\n",
        "plt.xlabel('')\r\n",
        "plt.show()"
      ],
      "outputs": [
        {
          "output_type": "display_data",
          "data": {
            "image/png": "[encoded data removed]",
            "text/plain": [
              "<Figure size 432x288 with 1 Axes>"
            ]
          },
          "metadata": {
            "needs_background": "light"
          }
        }
      ],
      "metadata": {
        "colab": {
          "base_uri": "https://localhost:8080/",
          "height": 281
        },
        "id": "M2ENmG68V0TS",
        "outputId": "ada240ee-a349-4858-b812-31e69808f13c"
      }
    },
    {
      "cell_type": "code",
      "execution_count": 18,
      "source": [
        "# Total number of fatalities by crashes\r\n",
        "\r\n",
        "pcdeaths_year = Aircrash_data[['Year', 'Fatalities']].groupby('Year').sum()\r\n",
        "pcdeaths_year.reset_index(inplace = True)"
      ],
      "outputs": [],
      "metadata": {
        "id": "4jdixFIGV81A"
      }
    },
    {
      "cell_type": "code",
      "execution_count": 19,
      "source": [
        "sns.lineplot(x = 'Year', y = 'Fatalities', data = pcdeaths_year)\r\n",
        "plt.title('Total Number of Fatalities by Air Plane Crashes per Year')\r\n",
        "plt.xlabel('')\r\n",
        "plt.show()"
      ],
      "outputs": [
        {
          "output_type": "display_data",
          "data": {
            "image/png": "[encoded data removed]",
            "text/plain": [
              "<Figure size 432x288 with 1 Axes>"
            ]
          },
          "metadata": {
            "needs_background": "light"
          }
        }
      ],
      "metadata": {
        "colab": {
          "base_uri": "https://localhost:8080/",
          "height": 281
        },
        "id": "q03drEY4WDoO",
        "outputId": "d6ff060e-586a-444c-f91c-543fc96c42a5"
      }
    },
    {
      "cell_type": "code",
      "execution_count": 20,
      "source": [
        "# Total number of people aboard planes that crashed\r\n",
        "\r\n",
        "abrd_per_year = Aircrash_data[['Year', 'Aboard']].groupby('Year').sum()\r\n",
        "abrd_per_year = abrd_per_year.reset_index()"
      ],
      "outputs": [],
      "metadata": {
        "id": "Hfz8xybnWMUG"
      }
    },
    {
      "cell_type": "code",
      "execution_count": 21,
      "source": [
        "sns.lineplot(x = 'Year', y = 'Aboard', data = abrd_per_year)\r\n",
        "plt.title('Total number of people Aboard Airplanes per Year')\r\n",
        "plt.xlabel('')\r\n",
        "plt.ylabel('Count')\r\n",
        "plt.show()"
      ],
      "outputs": [
        {
          "output_type": "display_data",
          "data": {
            "image/png": "[encoded data removed]",
            "text/plain": [
              "<Figure size 432x288 with 1 Axes>"
            ]
          },
          "metadata": {
            "needs_background": "light"
          }
        }
      ],
      "metadata": {
        "colab": {
          "base_uri": "https://localhost:8080/",
          "height": 281
        },
        "id": "1d-kd15TXWYq",
        "outputId": "08950722-d5fc-4f40-e1d7-da3596ef4666"
      }
    },
    {
      "cell_type": "code",
      "execution_count": 22,
      "source": [
        "# Correlation between number of people aboard and number of fatalities\r\n",
        "\r\n",
        "a = sts.pearsonr(Aircrash_data.Fatalities, Aircrash_data.Aboard)\r\n",
        "b = sts.spearmanr(Aircrash_data.Fatalities, Aircrash_data.Aboard)\r\n",
        "print ('Pearson Correlation constant : ',a[0],'\\nSpearman Correlation constant : ',b[0])"
      ],
      "outputs": [
        {
          "output_type": "stream",
          "name": "stdout",
          "text": [
            "Pearson Correlation constant :  0.7569242287226605 \n",
            "Spearman Correlation constant :  0.7729747858599402\n"
          ]
        }
      ],
      "metadata": {
        "colab": {
          "base_uri": "https://localhost:8080/"
        },
        "id": "Lhd2ulh6XaOf",
        "outputId": "1324e884-0662-4c82-b98c-70aa773acdab"
      }
    },
    {
      "cell_type": "code",
      "execution_count": 23,
      "source": [
        "# Yearly view of Fatalities, Survived, Killed on ground\r\n",
        "\r\n",
        "FSG_per_year = Aircrash_data[['Year', 'Fatalities', 'Survived', 'Ground']].groupby('Year').sum()\r\n",
        "FSG_per_year = FSG_per_year.reset_index()"
      ],
      "outputs": [],
      "metadata": {
        "id": "tSZxHTFvXebd"
      }
    },
    {
      "cell_type": "code",
      "execution_count": 24,
      "source": [
        "sns.lineplot(x = 'Year', y = 'Fatalities', data = FSG_per_year)\r\n",
        "sns.lineplot(x = 'Year', y = 'Survived', data = FSG_per_year)\r\n",
        "sns.lineplot(x = 'Year', y = 'Ground', data = FSG_per_year)\r\n",
        "plt.legend(['Fatalities', 'Survival', 'Ground'])\r\n",
        "plt.xlabel('')\r\n",
        "plt.ylabel('Count')\r\n",
        "plt.title('Fatalities vs Survived vs Killed on Ground per Year')\r\n",
        "plt.show()"
      ],
      "outputs": [
        {
          "output_type": "display_data",
          "data": {
            "image/png": "[encoded data removed]",
            "text/plain": [
              "<Figure size 432x288 with 1 Axes>"
            ]
          },
          "metadata": {
            "needs_background": "light"
          }
        }
      ],
      "metadata": {
        "colab": {
          "base_uri": "https://localhost:8080/",
          "height": 281
        },
        "id": "SoT0n45zYaJy",
        "outputId": "935e6d50-d70b-4332-8868-0193c170ca6e"
      }
    },
    {
      "cell_type": "code",
      "execution_count": 25,
      "source": [
        "#Spike in ground casualties. After further investigation, we find it to be the dreaded 9/11 disaster, when two planes were hijacked and crashed into the Twin Towers.\r\n",
        "\r\n",
        "Aircrash_data[Aircrash_data['Ground'] == Aircrash_data['Ground'].max()]"
      ],
      "outputs": [
        {
          "output_type": "execute_result",
          "data": {
            "text/html": [
              "<div>\n",
              "<style scoped>\n",
              "    .dataframe tbody tr th:only-of-type {\n",
              "        vertical-align: middle;\n",
              "    }\n",
              "\n",
              "    .dataframe tbody tr th {\n",
              "        vertical-align: top;\n",
              "    }\n",
              "\n",
              "    .dataframe thead th {\n",
              "        text-align: right;\n",
              "    }\n",
              "</style>\n",
              "<table border=\"1\" class=\"dataframe\">\n",
              "  <thead>\n",
              "    <tr style=\"text-align: right;\">\n",
              "      <th></th>\n",
              "      <th>Date</th>\n",
              "      <th>Time</th>\n",
              "      <th>Location</th>\n",
              "      <th>Operator</th>\n",
              "      <th>Flight #</th>\n",
              "      <th>Route</th>\n",
              "      <th>Type</th>\n",
              "      <th>Registration</th>\n",
              "      <th>cn/In</th>\n",
              "      <th>Aboard</th>\n",
              "      <th>Fatalities</th>\n",
              "      <th>Ground</th>\n",
              "      <th>Summary</th>\n",
              "      <th>Year</th>\n",
              "      <th>Survived</th>\n",
              "    </tr>\n",
              "  </thead>\n",
              "  <tbody>\n",
              "    <tr>\n",
              "      <th>4803</th>\n",
              "      <td>09/11/2001</td>\n",
              "      <td>08:47</td>\n",
              "      <td>New York City, New York</td>\n",
              "      <td>American Airlines</td>\n",
              "      <td>11</td>\n",
              "      <td>Boston - Los Angeles</td>\n",
              "      <td>Boeing 767-223ER</td>\n",
              "      <td>N334AA</td>\n",
              "      <td>22332/169</td>\n",
              "      <td>92.0</td>\n",
              "      <td>92.0</td>\n",
              "      <td>2750.0</td>\n",
              "      <td>The aircraft was hijacked shortly after it lef...</td>\n",
              "      <td>2001</td>\n",
              "      <td>0.0</td>\n",
              "    </tr>\n",
              "    <tr>\n",
              "      <th>4804</th>\n",
              "      <td>09/11/2001</td>\n",
              "      <td>09:03</td>\n",
              "      <td>New York City, New York</td>\n",
              "      <td>United Air Lines</td>\n",
              "      <td>175</td>\n",
              "      <td>Boston - Los Angeles</td>\n",
              "      <td>Boeing B-767-222</td>\n",
              "      <td>N612UA</td>\n",
              "      <td>21873/41</td>\n",
              "      <td>65.0</td>\n",
              "      <td>65.0</td>\n",
              "      <td>2750.0</td>\n",
              "      <td>The aircraft was hijacked shortly after it lef...</td>\n",
              "      <td>2001</td>\n",
              "      <td>0.0</td>\n",
              "    </tr>\n",
              "  </tbody>\n",
              "</table>\n",
              "</div>"
            ],
            "text/plain": [
              "            Date   Time                 Location           Operator Flight #  \\\n",
              "4803  09/11/2001  08:47  New York City, New York  American Airlines       11   \n",
              "4804  09/11/2001  09:03  New York City, New York   United Air Lines      175   \n",
              "\n",
              "                     Route              Type Registration      cn/In  Aboard  \\\n",
              "4803  Boston - Los Angeles  Boeing 767-223ER       N334AA  22332/169    92.0   \n",
              "4804  Boston - Los Angeles  Boeing B-767-222       N612UA   21873/41    65.0   \n",
              "\n",
              "      Fatalities  Ground                                            Summary  \\\n",
              "4803        92.0  2750.0  The aircraft was hijacked shortly after it lef...   \n",
              "4804        65.0  2750.0  The aircraft was hijacked shortly after it lef...   \n",
              "\n",
              "      Year  Survived  \n",
              "4803  2001       0.0  \n",
              "4804  2001       0.0  "
            ]
          },
          "metadata": {},
          "execution_count": 25
        }
      ],
      "metadata": {
        "colab": {
          "base_uri": "https://localhost:8080/",
          "height": 356
        },
        "id": "gltg8-l3Ycw8",
        "outputId": "2b7da578-db25-4a52-f567-06d7cac987db"
      }
    },
    {
      "cell_type": "code",
      "execution_count": 26,
      "source": [
        "# Creating a column to check if plane was a military one\r\n",
        "\r\n",
        "df = Aircrash_data\r\n",
        "df['Operator'] = df['Operator'].str.lower()"
      ],
      "outputs": [],
      "metadata": {
        "id": "hTFOCwyTgCSq"
      }
    },
    {
      "cell_type": "code",
      "execution_count": 27,
      "source": [
        "df['Military'] = df['Operator'].str.contains('military')"
      ],
      "outputs": [],
      "metadata": {
        "id": "rVudwW5kgrz7"
      }
    },
    {
      "cell_type": "code",
      "execution_count": 28,
      "source": [
        "df.groupby(['Military']).count()['Date']"
      ],
      "outputs": [
        {
          "output_type": "execute_result",
          "data": {
            "text/plain": [
              "Military\n",
              "False    4469\n",
              "True      781\n",
              "Name: Date, dtype: int64"
            ]
          },
          "metadata": {},
          "execution_count": 28
        }
      ],
      "metadata": {
        "colab": {
          "base_uri": "https://localhost:8080/"
        },
        "id": "sAHjltbch8rM",
        "outputId": "246c5fdc-0050-4537-caae-d7500ef35e89"
      }
    },
    {
      "cell_type": "code",
      "execution_count": 29,
      "source": [
        "# Number of military and passenger accidents by year\r\n",
        "\r\n",
        "dfm = df[df['Military'] == True]\r\n",
        "dfp = df[df['Military'] == False]\r\n",
        "\r\n",
        "dfm = pd.DataFrame(dfm.groupby('Year').count()['Date'])\r\n",
        "dfm.sort_values('Year',inplace=True)\r\n",
        "dfm.reset_index(inplace = True)\r\n",
        "dfm.columns = ['Year','Military']\r\n",
        "\r\n",
        "dfp = pd.DataFrame(dfp.groupby('Year').count()['Date'])\r\n",
        "dfp.sort_values('Year',inplace=True)\r\n",
        "dfp.reset_index(inplace = True)\r\n",
        "dfp.columns = ['Year','Passenger']\r\n",
        "\r\n",
        "plt.plot(dfm['Year'], dfm['Military'], label = 'Military', color='lightskyblue', marker = \".\", linewidth=1)\r\n",
        "plt.plot(dfp['Year'], dfp['Passenger'], label = 'Passenger', color='yellowgreen', marker = \".\", linewidth=1)\r\n",
        "plt.legend()\r\n",
        "plt.title('Number of military and passenger accidents by year')\r\n",
        "plt.show()"
      ],
      "outputs": [
        {
          "output_type": "display_data",
          "data": {
            "image/png": "[encoded data removed]",
            "text/plain": [
              "<Figure size 432x288 with 1 Axes>"
            ]
          },
          "metadata": {
            "needs_background": "light"
          }
        }
      ],
      "metadata": {
        "colab": {
          "base_uri": "https://localhost:8080/",
          "height": 281
        },
        "id": "lrSLdlDFjWPr",
        "outputId": "cd0476da-92c5-4919-d658-3e5532330b66"
      }
    },
    {
      "cell_type": "markdown",
      "source": [
        "Operator Analysis"
      ],
      "metadata": {
        "id": "qU8oVWvNo2zh"
      }
    },
    {
      "cell_type": "code",
      "execution_count": 30,
      "source": [
        "df.head()"
      ],
      "outputs": [
        {
          "output_type": "execute_result",
          "data": {
            "text/html": [
              "<div>\n",
              "<style scoped>\n",
              "    .dataframe tbody tr th:only-of-type {\n",
              "        vertical-align: middle;\n",
              "    }\n",
              "\n",
              "    .dataframe tbody tr th {\n",
              "        vertical-align: top;\n",
              "    }\n",
              "\n",
              "    .dataframe thead th {\n",
              "        text-align: right;\n",
              "    }\n",
              "</style>\n",
              "<table border=\"1\" class=\"dataframe\">\n",
              "  <thead>\n",
              "    <tr style=\"text-align: right;\">\n",
              "      <th></th>\n",
              "      <th>Date</th>\n",
              "      <th>Time</th>\n",
              "      <th>Location</th>\n",
              "      <th>Operator</th>\n",
              "      <th>Flight #</th>\n",
              "      <th>Route</th>\n",
              "      <th>Type</th>\n",
              "      <th>Registration</th>\n",
              "      <th>cn/In</th>\n",
              "      <th>Aboard</th>\n",
              "      <th>Fatalities</th>\n",
              "      <th>Ground</th>\n",
              "      <th>Summary</th>\n",
              "      <th>Year</th>\n",
              "      <th>Survived</th>\n",
              "      <th>Military</th>\n",
              "    </tr>\n",
              "  </thead>\n",
              "  <tbody>\n",
              "    <tr>\n",
              "      <th>0</th>\n",
              "      <td>09/17/1908</td>\n",
              "      <td>17:18</td>\n",
              "      <td>Fort Myer, Virginia</td>\n",
              "      <td>military - u.s. army</td>\n",
              "      <td>NaN</td>\n",
              "      <td>Demonstration</td>\n",
              "      <td>Wright Flyer III</td>\n",
              "      <td>NaN</td>\n",
              "      <td>1</td>\n",
              "      <td>2.0</td>\n",
              "      <td>1.0</td>\n",
              "      <td>0.0</td>\n",
              "      <td>During a demonstration flight, a U.S. Army fly...</td>\n",
              "      <td>1908</td>\n",
              "      <td>1.0</td>\n",
              "      <td>True</td>\n",
              "    </tr>\n",
              "    <tr>\n",
              "      <th>1</th>\n",
              "      <td>07/12/1912</td>\n",
              "      <td>06:30</td>\n",
              "      <td>AtlantiCity, New Jersey</td>\n",
              "      <td>military - u.s. navy</td>\n",
              "      <td>NaN</td>\n",
              "      <td>Test flight</td>\n",
              "      <td>Dirigible</td>\n",
              "      <td>NaN</td>\n",
              "      <td>NaN</td>\n",
              "      <td>5.0</td>\n",
              "      <td>5.0</td>\n",
              "      <td>0.0</td>\n",
              "      <td>First U.S. dirigible Akron exploded just offsh...</td>\n",
              "      <td>1912</td>\n",
              "      <td>0.0</td>\n",
              "      <td>True</td>\n",
              "    </tr>\n",
              "    <tr>\n",
              "      <th>2</th>\n",
              "      <td>08/06/1913</td>\n",
              "      <td>NaN</td>\n",
              "      <td>Victoria, British Columbia, Canada</td>\n",
              "      <td>private</td>\n",
              "      <td>-</td>\n",
              "      <td>NaN</td>\n",
              "      <td>Curtiss seaplane</td>\n",
              "      <td>NaN</td>\n",
              "      <td>NaN</td>\n",
              "      <td>1.0</td>\n",
              "      <td>1.0</td>\n",
              "      <td>0.0</td>\n",
              "      <td>The first fatal airplane accident in Canada oc...</td>\n",
              "      <td>1913</td>\n",
              "      <td>0.0</td>\n",
              "      <td>False</td>\n",
              "    </tr>\n",
              "    <tr>\n",
              "      <th>3</th>\n",
              "      <td>09/09/1913</td>\n",
              "      <td>18:30</td>\n",
              "      <td>Over the North Sea</td>\n",
              "      <td>military - german navy</td>\n",
              "      <td>NaN</td>\n",
              "      <td>NaN</td>\n",
              "      <td>Zeppelin L-1 (airship)</td>\n",
              "      <td>NaN</td>\n",
              "      <td>NaN</td>\n",
              "      <td>20.0</td>\n",
              "      <td>14.0</td>\n",
              "      <td>0.0</td>\n",
              "      <td>The airship flew into a thunderstorm and encou...</td>\n",
              "      <td>1913</td>\n",
              "      <td>6.0</td>\n",
              "      <td>True</td>\n",
              "    </tr>\n",
              "    <tr>\n",
              "      <th>4</th>\n",
              "      <td>10/17/1913</td>\n",
              "      <td>10:30</td>\n",
              "      <td>Near Johannisthal, Germany</td>\n",
              "      <td>military - german navy</td>\n",
              "      <td>NaN</td>\n",
              "      <td>NaN</td>\n",
              "      <td>Zeppelin L-2 (airship)</td>\n",
              "      <td>NaN</td>\n",
              "      <td>NaN</td>\n",
              "      <td>30.0</td>\n",
              "      <td>30.0</td>\n",
              "      <td>0.0</td>\n",
              "      <td>Hydrogen gas which was being vented was sucked...</td>\n",
              "      <td>1913</td>\n",
              "      <td>0.0</td>\n",
              "      <td>True</td>\n",
              "    </tr>\n",
              "  </tbody>\n",
              "</table>\n",
              "</div>"
            ],
            "text/plain": [
              "         Date   Time                            Location  \\\n",
              "0  09/17/1908  17:18                 Fort Myer, Virginia   \n",
              "1  07/12/1912  06:30             AtlantiCity, New Jersey   \n",
              "2  08/06/1913    NaN  Victoria, British Columbia, Canada   \n",
              "3  09/09/1913  18:30                  Over the North Sea   \n",
              "4  10/17/1913  10:30          Near Johannisthal, Germany   \n",
              "\n",
              "                 Operator Flight #          Route                    Type  \\\n",
              "0    military - u.s. army      NaN  Demonstration        Wright Flyer III   \n",
              "1    military - u.s. navy      NaN    Test flight               Dirigible   \n",
              "2                 private        -            NaN        Curtiss seaplane   \n",
              "3  military - german navy      NaN            NaN  Zeppelin L-1 (airship)   \n",
              "4  military - german navy      NaN            NaN  Zeppelin L-2 (airship)   \n",
              "\n",
              "  Registration cn/In  Aboard  Fatalities  Ground  \\\n",
              "0          NaN     1     2.0         1.0     0.0   \n",
              "1          NaN   NaN     5.0         5.0     0.0   \n",
              "2          NaN   NaN     1.0         1.0     0.0   \n",
              "3          NaN   NaN    20.0        14.0     0.0   \n",
              "4          NaN   NaN    30.0        30.0     0.0   \n",
              "\n",
              "                                             Summary  Year  Survived Military  \n",
              "0  During a demonstration flight, a U.S. Army fly...  1908       1.0     True  \n",
              "1  First U.S. dirigible Akron exploded just offsh...  1912       0.0     True  \n",
              "2  The first fatal airplane accident in Canada oc...  1913       0.0    False  \n",
              "3  The airship flew into a thunderstorm and encou...  1913       6.0     True  \n",
              "4  Hydrogen gas which was being vented was sucked...  1913       0.0     True  "
            ]
          },
          "metadata": {},
          "execution_count": 30
        }
      ],
      "metadata": {
        "colab": {
          "base_uri": "https://localhost:8080/",
          "height": 502
        },
        "id": "xIkwggmjm378",
        "outputId": "0e91f9da-30c2-483c-8fde-d0b98b0ec93d"
      }
    },
    {
      "cell_type": "code",
      "execution_count": 31,
      "source": [
        "# We aim to find which were the most unreliable operators\r\n",
        "\r\n",
        "df['Operator'] = df['Operator'].str.upper()"
      ],
      "outputs": [],
      "metadata": {
        "id": "1sbdkPh8pCLQ"
      }
    },
    {
      "cell_type": "code",
      "execution_count": 32,
      "source": [
        "# Most crashes by operator\r\n",
        "\r\n",
        "op = df.groupby('Operator')[['Operator']].count()\r\n",
        "op.rename(columns = {\"Operator\" : \"Count\"}, inplace= True)\r\n",
        "op = op.sort_values('Count', ascending = False).head(20)\r\n",
        "\r\n",
        "sns.barplot (y = op.index, x = \"Count\", data = op, orient='h')\r\n",
        "plt.title('Total Crashes by Operator', loc='Center', fontsize=14)\r\n",
        "plt.show()"
      ],
      "outputs": [
        {
          "output_type": "display_data",
          "data": {
            "image/png": "[encoded data removed]",
            "text/plain": [
              "<Figure size 432x288 with 1 Axes>"
            ]
          },
          "metadata": {
            "needs_background": "light"
          }
        }
      ],
      "metadata": {
        "colab": {
          "base_uri": "https://localhost:8080/",
          "height": 296
        },
        "id": "IfF9HMFop5UH",
        "outputId": "33e1e831-ff11-4441-a868-8d1a078ca3b1"
      }
    },
    {
      "cell_type": "code",
      "execution_count": 33,
      "source": [
        "# Most fatalities by operator\r\n",
        "\r\n",
        "op = df.groupby('Operator').sum() ['Fatalities']\r\n",
        "op = op.sort_values(ascending = False)\r\n",
        "op = pd.DataFrame (data = op.head(20))\r\n",
        "\r\n",
        "sns.barplot (y = op.index, x = \"Fatalities\", data = op, orient='h')\r\n",
        "plt.title('Total Fatalities by Operator', loc='Center', fontsize=14)\r\n",
        "plt.show()"
      ],
      "outputs": [
        {
          "output_type": "display_data",
          "data": {
            "image/png": "[encoded data removed]",
            "text/plain": [
              "<Figure size 432x288 with 1 Axes>"
            ]
          },
          "metadata": {
            "needs_background": "light"
          }
        }
      ],
      "metadata": {
        "colab": {
          "base_uri": "https://localhost:8080/",
          "height": 296
        },
        "id": "rSCSwlG5qSeR",
        "outputId": "f5eb38ff-37be-4bf6-eec9-ecd5772244f9"
      }
    },
    {
      "cell_type": "code",
      "execution_count": 34,
      "source": [
        "# As we can see, both lists are headed by Aeroflot"
      ],
      "outputs": [],
      "metadata": {
        "id": "uTOWBagDwNC5"
      }
    },
    {
      "cell_type": "markdown",
      "source": [
        "#### Locations with highest average of fatalities"
      ],
      "metadata": {
        "id": "qzu_2LuNJDH2"
      }
    },
    {
      "cell_type": "code",
      "execution_count": 35,
      "source": [
        "#  Check relative occurence of crash in locations\r\n",
        "by_location = df.groupby('Location').mean()\r\n",
        "by_location.reset_index(inplace= True)\r\n",
        "by_location"
      ],
      "outputs": [
        {
          "output_type": "execute_result",
          "data": {
            "text/html": [
              "<div>\n",
              "<style scoped>\n",
              "    .dataframe tbody tr th:only-of-type {\n",
              "        vertical-align: middle;\n",
              "    }\n",
              "\n",
              "    .dataframe tbody tr th {\n",
              "        vertical-align: top;\n",
              "    }\n",
              "\n",
              "    .dataframe thead th {\n",
              "        text-align: right;\n",
              "    }\n",
              "</style>\n",
              "<table border=\"1\" class=\"dataframe\">\n",
              "  <thead>\n",
              "    <tr style=\"text-align: right;\">\n",
              "      <th></th>\n",
              "      <th>Location</th>\n",
              "      <th>Aboard</th>\n",
              "      <th>Fatalities</th>\n",
              "      <th>Ground</th>\n",
              "      <th>Year</th>\n",
              "      <th>Survived</th>\n",
              "    </tr>\n",
              "  </thead>\n",
              "  <tbody>\n",
              "    <tr>\n",
              "      <th>0</th>\n",
              "      <td>1,200 miles off Dakar, AtlantiOcean</td>\n",
              "      <td>52.000000</td>\n",
              "      <td>52.0</td>\n",
              "      <td>0.0</td>\n",
              "      <td>1948.000000</td>\n",
              "      <td>0.000000</td>\n",
              "    </tr>\n",
              "    <tr>\n",
              "      <th>1</th>\n",
              "      <td>100 miles SW of Kuujjuaq, Quebec, Canada</td>\n",
              "      <td>2.000000</td>\n",
              "      <td>2.0</td>\n",
              "      <td>0.0</td>\n",
              "      <td>1997.000000</td>\n",
              "      <td>0.000000</td>\n",
              "    </tr>\n",
              "    <tr>\n",
              "      <th>2</th>\n",
              "      <td>110 miles SW of Sochi, Russia</td>\n",
              "      <td>78.000000</td>\n",
              "      <td>78.0</td>\n",
              "      <td>0.0</td>\n",
              "      <td>2001.000000</td>\n",
              "      <td>0.000000</td>\n",
              "    </tr>\n",
              "    <tr>\n",
              "      <th>3</th>\n",
              "      <td>200 miles NE of Derby, Australia</td>\n",
              "      <td>4.000000</td>\n",
              "      <td>4.0</td>\n",
              "      <td>0.0</td>\n",
              "      <td>2003.000000</td>\n",
              "      <td>0.000000</td>\n",
              "    </tr>\n",
              "    <tr>\n",
              "      <th>4</th>\n",
              "      <td>25 nm off Agrigento, Italy</td>\n",
              "      <td>26.000000</td>\n",
              "      <td>26.0</td>\n",
              "      <td>0.0</td>\n",
              "      <td>1953.000000</td>\n",
              "      <td>0.000000</td>\n",
              "    </tr>\n",
              "    <tr>\n",
              "      <th>...</th>\n",
              "      <td>...</td>\n",
              "      <td>...</td>\n",
              "      <td>...</td>\n",
              "      <td>...</td>\n",
              "      <td>...</td>\n",
              "      <td>...</td>\n",
              "    </tr>\n",
              "    <tr>\n",
              "      <th>4298</th>\n",
              "      <td>Zheng Zou AB, China</td>\n",
              "      <td>16.000000</td>\n",
              "      <td>16.0</td>\n",
              "      <td>6.0</td>\n",
              "      <td>2001.000000</td>\n",
              "      <td>0.000000</td>\n",
              "    </tr>\n",
              "    <tr>\n",
              "      <th>4299</th>\n",
              "      <td>Zifta, Egypt</td>\n",
              "      <td>4.000000</td>\n",
              "      <td>4.0</td>\n",
              "      <td>0.0</td>\n",
              "      <td>1968.000000</td>\n",
              "      <td>0.000000</td>\n",
              "    </tr>\n",
              "    <tr>\n",
              "      <th>4300</th>\n",
              "      <td>Zurich, Switzerland</td>\n",
              "      <td>25.166667</td>\n",
              "      <td>17.5</td>\n",
              "      <td>0.0</td>\n",
              "      <td>1968.833333</td>\n",
              "      <td>7.666667</td>\n",
              "    </tr>\n",
              "    <tr>\n",
              "      <th>4301</th>\n",
              "      <td>Zwingle, Iowa</td>\n",
              "      <td>8.000000</td>\n",
              "      <td>8.0</td>\n",
              "      <td>0.0</td>\n",
              "      <td>1993.000000</td>\n",
              "      <td>0.000000</td>\n",
              "    </tr>\n",
              "    <tr>\n",
              "      <th>4302</th>\n",
              "      <td>near Orillia, Ontario, Canada</td>\n",
              "      <td>2.000000</td>\n",
              "      <td>2.0</td>\n",
              "      <td>0.0</td>\n",
              "      <td>1984.000000</td>\n",
              "      <td>0.000000</td>\n",
              "    </tr>\n",
              "  </tbody>\n",
              "</table>\n",
              "<p>4303 rows × 6 columns</p>\n",
              "</div>"
            ],
            "text/plain": [
              "                                      Location     Aboard  Fatalities  Ground  \\\n",
              "0          1,200 miles off Dakar, AtlantiOcean  52.000000        52.0     0.0   \n",
              "1     100 miles SW of Kuujjuaq, Quebec, Canada   2.000000         2.0     0.0   \n",
              "2                110 miles SW of Sochi, Russia  78.000000        78.0     0.0   \n",
              "3             200 miles NE of Derby, Australia   4.000000         4.0     0.0   \n",
              "4                   25 nm off Agrigento, Italy  26.000000        26.0     0.0   \n",
              "...                                        ...        ...         ...     ...   \n",
              "4298                       Zheng Zou AB, China  16.000000        16.0     6.0   \n",
              "4299                              Zifta, Egypt   4.000000         4.0     0.0   \n",
              "4300                       Zurich, Switzerland  25.166667        17.5     0.0   \n",
              "4301                             Zwingle, Iowa   8.000000         8.0     0.0   \n",
              "4302             near Orillia, Ontario, Canada   2.000000         2.0     0.0   \n",
              "\n",
              "             Year  Survived  \n",
              "0     1948.000000  0.000000  \n",
              "1     1997.000000  0.000000  \n",
              "2     2001.000000  0.000000  \n",
              "3     2003.000000  0.000000  \n",
              "4     1953.000000  0.000000  \n",
              "...           ...       ...  \n",
              "4298  2001.000000  0.000000  \n",
              "4299  1968.000000  0.000000  \n",
              "4300  1968.833333  7.666667  \n",
              "4301  1993.000000  0.000000  \n",
              "4302  1984.000000  0.000000  \n",
              "\n",
              "[4303 rows x 6 columns]"
            ]
          },
          "metadata": {},
          "execution_count": 35
        }
      ],
      "metadata": {
        "colab": {
          "base_uri": "https://localhost:8080/",
          "height": 422
        },
        "id": "UZegB6QHCVm7",
        "outputId": "1e74d0a0-d0f8-497f-ad8e-e077f43c2d50"
      }
    },
    {
      "cell_type": "code",
      "execution_count": 36,
      "source": [
        "by_location = by_location[by_location['Fatalities'] > 300]"
      ],
      "outputs": [],
      "metadata": {
        "id": "e6dagZGcFFWg"
      }
    },
    {
      "cell_type": "code",
      "execution_count": 37,
      "source": [
        "plt.figure(figsize= (18,5))\r\n",
        "sns.barplot(by_location['Location'],by_location['Fatalities'])\r\n",
        "plt.title('Locations with the highest average fatalities')"
      ],
      "outputs": [
        {
          "output_type": "execute_result",
          "data": {
            "text/plain": [
              "Text(0.5, 1.0, 'Locations with the highest average fatalities')"
            ]
          },
          "metadata": {},
          "execution_count": 37
        },
        {
          "output_type": "display_data",
          "data": {
            "image/png": "[encoded data removed]",
            "text/plain": [
              "<Figure size 1296x360 with 1 Axes>"
            ]
          },
          "metadata": {
            "needs_background": "light"
          }
        }
      ],
      "metadata": {
        "colab": {
          "base_uri": "https://localhost:8080/",
          "height": 293
        },
        "id": "3hUaaEgnDfF0",
        "outputId": "c4113380-ca4d-4308-ee25-d159e60f4195"
      }
    },
    {
      "cell_type": "markdown",
      "source": [
        "#### Locations with highest count of crashes"
      ],
      "metadata": {
        "id": "jjUdGl9RJjbA"
      }
    },
    {
      "cell_type": "code",
      "execution_count": 38,
      "source": [
        "#  Check relative occurence of crash in locations\r\n",
        "by_location = df.groupby('Location')\r\n",
        "occurence = by_location['Location'].count().to_frame()\r\n",
        "occurence.rename(columns= {'Location':'count'}, inplace= True)\r\n",
        "occurence.reset_index(inplace= True)\r\n",
        "occurence"
      ],
      "outputs": [
        {
          "output_type": "execute_result",
          "data": {
            "text/html": [
              "<div>\n",
              "<style scoped>\n",
              "    .dataframe tbody tr th:only-of-type {\n",
              "        vertical-align: middle;\n",
              "    }\n",
              "\n",
              "    .dataframe tbody tr th {\n",
              "        vertical-align: top;\n",
              "    }\n",
              "\n",
              "    .dataframe thead th {\n",
              "        text-align: right;\n",
              "    }\n",
              "</style>\n",
              "<table border=\"1\" class=\"dataframe\">\n",
              "  <thead>\n",
              "    <tr style=\"text-align: right;\">\n",
              "      <th></th>\n",
              "      <th>Location</th>\n",
              "      <th>count</th>\n",
              "    </tr>\n",
              "  </thead>\n",
              "  <tbody>\n",
              "    <tr>\n",
              "      <th>0</th>\n",
              "      <td>1,200 miles off Dakar, AtlantiOcean</td>\n",
              "      <td>1</td>\n",
              "    </tr>\n",
              "    <tr>\n",
              "      <th>1</th>\n",
              "      <td>100 miles SW of Kuujjuaq, Quebec, Canada</td>\n",
              "      <td>1</td>\n",
              "    </tr>\n",
              "    <tr>\n",
              "      <th>2</th>\n",
              "      <td>110 miles SW of Sochi, Russia</td>\n",
              "      <td>1</td>\n",
              "    </tr>\n",
              "    <tr>\n",
              "      <th>3</th>\n",
              "      <td>200 miles NE of Derby, Australia</td>\n",
              "      <td>1</td>\n",
              "    </tr>\n",
              "    <tr>\n",
              "      <th>4</th>\n",
              "      <td>25 nm off Agrigento, Italy</td>\n",
              "      <td>1</td>\n",
              "    </tr>\n",
              "    <tr>\n",
              "      <th>...</th>\n",
              "      <td>...</td>\n",
              "      <td>...</td>\n",
              "    </tr>\n",
              "    <tr>\n",
              "      <th>4298</th>\n",
              "      <td>Zheng Zou AB, China</td>\n",
              "      <td>1</td>\n",
              "    </tr>\n",
              "    <tr>\n",
              "      <th>4299</th>\n",
              "      <td>Zifta, Egypt</td>\n",
              "      <td>1</td>\n",
              "    </tr>\n",
              "    <tr>\n",
              "      <th>4300</th>\n",
              "      <td>Zurich, Switzerland</td>\n",
              "      <td>6</td>\n",
              "    </tr>\n",
              "    <tr>\n",
              "      <th>4301</th>\n",
              "      <td>Zwingle, Iowa</td>\n",
              "      <td>1</td>\n",
              "    </tr>\n",
              "    <tr>\n",
              "      <th>4302</th>\n",
              "      <td>near Orillia, Ontario, Canada</td>\n",
              "      <td>1</td>\n",
              "    </tr>\n",
              "  </tbody>\n",
              "</table>\n",
              "<p>4303 rows × 2 columns</p>\n",
              "</div>"
            ],
            "text/plain": [
              "                                      Location  count\n",
              "0          1,200 miles off Dakar, AtlantiOcean      1\n",
              "1     100 miles SW of Kuujjuaq, Quebec, Canada      1\n",
              "2                110 miles SW of Sochi, Russia      1\n",
              "3             200 miles NE of Derby, Australia      1\n",
              "4                   25 nm off Agrigento, Italy      1\n",
              "...                                        ...    ...\n",
              "4298                       Zheng Zou AB, China      1\n",
              "4299                              Zifta, Egypt      1\n",
              "4300                       Zurich, Switzerland      6\n",
              "4301                             Zwingle, Iowa      1\n",
              "4302             near Orillia, Ontario, Canada      1\n",
              "\n",
              "[4303 rows x 2 columns]"
            ]
          },
          "metadata": {},
          "execution_count": 38
        }
      ],
      "metadata": {
        "colab": {
          "base_uri": "https://localhost:8080/",
          "height": 422
        },
        "id": "_2nel52u6cK7",
        "outputId": "d7ed03ee-c700-4d71-c45e-8747b2b277ed"
      }
    },
    {
      "cell_type": "code",
      "execution_count": 39,
      "source": [
        "occurence['count'].value_counts()"
      ],
      "outputs": [
        {
          "output_type": "execute_result",
          "data": {
            "text/plain": [
              "1     3839\n",
              "2      267\n",
              "3      101\n",
              "4       37\n",
              "5       20\n",
              "6       15\n",
              "7        7\n",
              "8        5\n",
              "13       3\n",
              "9        3\n",
              "12       2\n",
              "15       2\n",
              "11       1\n",
              "14       1\n",
              "Name: count, dtype: int64"
            ]
          },
          "metadata": {},
          "execution_count": 39
        }
      ],
      "metadata": {
        "colab": {
          "base_uri": "https://localhost:8080/"
        },
        "id": "g9WfpUb--UfW",
        "outputId": "159c27ab-ee7a-42d9-9465-c55afec85887"
      }
    },
    {
      "cell_type": "code",
      "execution_count": 40,
      "source": [
        "occurence = occurence[occurence['count'] > 10]"
      ],
      "outputs": [],
      "metadata": {
        "id": "8Mn3uwYN-deW"
      }
    },
    {
      "cell_type": "code",
      "execution_count": 41,
      "source": [
        "plt.figure(figsize= (20,5))\r\n",
        "sns.barplot(occurence['Location'],occurence['count']);\r\n",
        "plt.title('Locations with higher number of crash')"
      ],
      "outputs": [
        {
          "output_type": "execute_result",
          "data": {
            "text/plain": [
              "Text(0.5, 1.0, 'Locations with higher number of crash')"
            ]
          },
          "metadata": {},
          "execution_count": 41
        },
        {
          "output_type": "display_data",
          "data": {
            "image/png": "[encoded data removed]",
            "text/plain": [
              "<Figure size 1440x360 with 1 Axes>"
            ]
          },
          "metadata": {
            "needs_background": "light"
          }
        }
      ],
      "metadata": {
        "colab": {
          "base_uri": "https://localhost:8080/",
          "height": 388
        },
        "id": "YGYgJPOt7Kaz",
        "outputId": "4ec6954a-983e-4ef3-efd3-5d8738ef7674"
      }
    },
    {
      "cell_type": "markdown",
      "source": [
        "#### Route with highest count of crashes"
      ],
      "metadata": {
        "id": "AztaFo1eJoJH"
      }
    },
    {
      "cell_type": "code",
      "execution_count": 42,
      "source": [
        "# based on route\r\n",
        "by_route = df.groupby('Route')\r\n",
        "route = by_route['Route'].count().to_frame()\r\n",
        "route.rename(columns= {'Route':'count'}, inplace= True)\r\n",
        "route.reset_index(inplace= True)\r\n",
        "route"
      ],
      "outputs": [
        {
          "output_type": "execute_result",
          "data": {
            "text/html": [
              "<div>\n",
              "<style scoped>\n",
              "    .dataframe tbody tr th:only-of-type {\n",
              "        vertical-align: middle;\n",
              "    }\n",
              "\n",
              "    .dataframe tbody tr th {\n",
              "        vertical-align: top;\n",
              "    }\n",
              "\n",
              "    .dataframe thead th {\n",
              "        text-align: right;\n",
              "    }\n",
              "</style>\n",
              "<table border=\"1\" class=\"dataframe\">\n",
              "  <thead>\n",
              "    <tr style=\"text-align: right;\">\n",
              "      <th></th>\n",
              "      <th>Route</th>\n",
              "      <th>count</th>\n",
              "    </tr>\n",
              "  </thead>\n",
              "  <tbody>\n",
              "    <tr>\n",
              "      <th>0</th>\n",
              "      <td>- Tegucigalpa - Toncontin</td>\n",
              "      <td>1</td>\n",
              "    </tr>\n",
              "    <tr>\n",
              "      <th>1</th>\n",
              "      <td>AZ - Las Vegas, NV</td>\n",
              "      <td>1</td>\n",
              "    </tr>\n",
              "    <tr>\n",
              "      <th>2</th>\n",
              "      <td>Abaco - Miami</td>\n",
              "      <td>1</td>\n",
              "    </tr>\n",
              "    <tr>\n",
              "      <th>3</th>\n",
              "      <td>Abadan - Tehran</td>\n",
              "      <td>1</td>\n",
              "    </tr>\n",
              "    <tr>\n",
              "      <th>4</th>\n",
              "      <td>Abakan - Petropavlosk - Kamchatsky</td>\n",
              "      <td>1</td>\n",
              "    </tr>\n",
              "    <tr>\n",
              "      <th>...</th>\n",
              "      <td>...</td>\n",
              "      <td>...</td>\n",
              "    </tr>\n",
              "    <tr>\n",
              "      <th>3239</th>\n",
              "      <td>Zurich - Rabat</td>\n",
              "      <td>1</td>\n",
              "    </tr>\n",
              "    <tr>\n",
              "      <th>3240</th>\n",
              "      <td>Zurich - Rome</td>\n",
              "      <td>1</td>\n",
              "    </tr>\n",
              "    <tr>\n",
              "      <th>3241</th>\n",
              "      <td>Zurich - Tel Aviv</td>\n",
              "      <td>1</td>\n",
              "    </tr>\n",
              "    <tr>\n",
              "      <th>3242</th>\n",
              "      <td>Zürich - Dresden</td>\n",
              "      <td>1</td>\n",
              "    </tr>\n",
              "    <tr>\n",
              "      <th>3243</th>\n",
              "      <td>al-Asad air base - Baghdad</td>\n",
              "      <td>1</td>\n",
              "    </tr>\n",
              "  </tbody>\n",
              "</table>\n",
              "<p>3244 rows × 2 columns</p>\n",
              "</div>"
            ],
            "text/plain": [
              "                                   Route  count\n",
              "0              - Tegucigalpa - Toncontin      1\n",
              "1                     AZ - Las Vegas, NV      1\n",
              "2                          Abaco - Miami      1\n",
              "3                        Abadan - Tehran      1\n",
              "4     Abakan - Petropavlosk - Kamchatsky      1\n",
              "...                                  ...    ...\n",
              "3239                      Zurich - Rabat      1\n",
              "3240                       Zurich - Rome      1\n",
              "3241                   Zurich - Tel Aviv      1\n",
              "3242                    Zürich - Dresden      1\n",
              "3243          al-Asad air base - Baghdad      1\n",
              "\n",
              "[3244 rows x 2 columns]"
            ]
          },
          "metadata": {},
          "execution_count": 42
        }
      ],
      "metadata": {
        "colab": {
          "base_uri": "https://localhost:8080/",
          "height": 422
        },
        "id": "J6RGnoX19oi6",
        "outputId": "77f8fa94-5509-4fc3-d875-17a9e21bcdc8"
      }
    },
    {
      "cell_type": "code",
      "execution_count": 43,
      "source": [
        "route['count'].value_counts()"
      ],
      "outputs": [
        {
          "output_type": "execute_result",
          "data": {
            "text/plain": [
              "1     3086\n",
              "2      125\n",
              "3       24\n",
              "4        4\n",
              "5        1\n",
              "29       1\n",
              "6        1\n",
              "17       1\n",
              "81       1\n",
              "Name: count, dtype: int64"
            ]
          },
          "metadata": {},
          "execution_count": 43
        }
      ],
      "metadata": {
        "colab": {
          "base_uri": "https://localhost:8080/"
        },
        "id": "d6eehlRgAeqK",
        "outputId": "783630ec-67d8-4550-eb1a-8a5358596ee9"
      }
    },
    {
      "cell_type": "code",
      "execution_count": 44,
      "source": [
        "route = route[route['count'] > 4]\r\n",
        "route"
      ],
      "outputs": [
        {
          "output_type": "execute_result",
          "data": {
            "text/html": [
              "<div>\n",
              "<style scoped>\n",
              "    .dataframe tbody tr th:only-of-type {\n",
              "        vertical-align: middle;\n",
              "    }\n",
              "\n",
              "    .dataframe tbody tr th {\n",
              "        vertical-align: top;\n",
              "    }\n",
              "\n",
              "    .dataframe thead th {\n",
              "        text-align: right;\n",
              "    }\n",
              "</style>\n",
              "<table border=\"1\" class=\"dataframe\">\n",
              "  <thead>\n",
              "    <tr style=\"text-align: right;\">\n",
              "      <th></th>\n",
              "      <th>Route</th>\n",
              "      <th>count</th>\n",
              "    </tr>\n",
              "  </thead>\n",
              "  <tbody>\n",
              "    <tr>\n",
              "      <th>2711</th>\n",
              "      <td>Sao Paulo - Rio de Janeiro</td>\n",
              "      <td>5</td>\n",
              "    </tr>\n",
              "    <tr>\n",
              "      <th>2790</th>\n",
              "      <td>Sightseeing</td>\n",
              "      <td>29</td>\n",
              "    </tr>\n",
              "    <tr>\n",
              "      <th>2978</th>\n",
              "      <td>Test</td>\n",
              "      <td>6</td>\n",
              "    </tr>\n",
              "    <tr>\n",
              "      <th>2979</th>\n",
              "      <td>Test flight</td>\n",
              "      <td>17</td>\n",
              "    </tr>\n",
              "    <tr>\n",
              "      <th>3029</th>\n",
              "      <td>Training</td>\n",
              "      <td>81</td>\n",
              "    </tr>\n",
              "  </tbody>\n",
              "</table>\n",
              "</div>"
            ],
            "text/plain": [
              "                           Route  count\n",
              "2711  Sao Paulo - Rio de Janeiro      5\n",
              "2790                 Sightseeing     29\n",
              "2978                        Test      6\n",
              "2979                 Test flight     17\n",
              "3029                    Training     81"
            ]
          },
          "metadata": {},
          "execution_count": 44
        }
      ],
      "metadata": {
        "colab": {
          "base_uri": "https://localhost:8080/",
          "height": 205
        },
        "id": "DCpPQ8JdA151",
        "outputId": "d001a204-3ab4-4725-e666-4088aa49127e"
      }
    },
    {
      "cell_type": "code",
      "execution_count": 45,
      "source": [
        "#plt.figure(figsize= (20,5))\r\n",
        "sns.barplot(route['Route'],route['count'])\r\n",
        "plt.title('Routes wiith the highest number of crash')"
      ],
      "outputs": [
        {
          "output_type": "execute_result",
          "data": {
            "text/plain": [
              "Text(0.5, 1.0, 'Routes wiith the highest number of crash')"
            ]
          },
          "metadata": {},
          "execution_count": 45
        },
        {
          "output_type": "display_data",
          "data": {
            "image/png": "[encoded data removed]",
            "text/plain": [
              "<Figure size 432x288 with 1 Axes>"
            ]
          },
          "metadata": {
            "needs_background": "light"
          }
        }
      ],
      "metadata": {
        "colab": {
          "base_uri": "https://localhost:8080/",
          "height": 313
        },
        "id": "KzYpbtWlBDO2",
        "outputId": "4b77a3a3-b356-4f40-c874-7fdb0d54a889"
      }
    },
    {
      "cell_type": "markdown",
      "source": [
        "### Text Clustering with KMeans"
      ],
      "metadata": {}
    },
    {
      "cell_type": "code",
      "execution_count": 46,
      "source": [
        "from sklearn.feature_extraction.text import TfidfVectorizer\r\n",
        "from sklearn.cluster import KMeans\r\n",
        "from sklearn.cluster import MiniBatchKMeans\r\n",
        "from sklearn.metrics import adjusted_rand_score\r\n",
        "from sklearn.preprocessing import LabelEncoder\r\n",
        "from sklearn.preprocessing import MinMaxScaler\r\n",
        "import seaborn as sns\r\n",
        "import matplotlib.pyplot as plt\r\n",
        "from sklearn.decomposition import PCA"
      ],
      "outputs": [],
      "metadata": {
        "id": "JhS_qbVJBWRH"
      }
    },
    {
      "cell_type": "markdown",
      "source": [
        "In the 'Summary' column, we have NaN values as well, so we're going to create a new dataframe with the 'Summary' data and dropping all rows with NaN values."
      ],
      "metadata": {}
    },
    {
      "cell_type": "code",
      "execution_count": 47,
      "source": [
        "text_data = df['Summary'].dropna()\r\n",
        "text_data = pd.DataFrame(text_data)"
      ],
      "outputs": [],
      "metadata": {}
    },
    {
      "cell_type": "markdown",
      "source": [
        "KMeans normally works with numbers only: we need to have numbers.To get numbers, we do feature extraction.\r\n",
        "\r\n",
        "The feature we’ll use is TF-IDF, a numerical statistic. This statistic uses term frequency and inverse document frequency. The method TfidfVectorizer() implements the TF-IDF algorithm."
      ],
      "metadata": {}
    },
    {
      "cell_type": "code",
      "execution_count": 48,
      "source": [
        "documents = list(text_data['Summary'])\r\n",
        "vectorizer = TfidfVectorizer(stop_words='english') # Stop words are like \"a\", \"the\", or \"in\" which don't have significant meaning\r\n",
        "X = vectorizer.fit_transform(documents)"
      ],
      "outputs": [],
      "metadata": {}
    },
    {
      "cell_type": "markdown",
      "source": [
        "### Model Fitting"
      ],
      "metadata": {}
    },
    {
      "cell_type": "code",
      "execution_count": 85,
      "source": [
        "model = MiniBatchKMeans(n_clusters=5, random_state=5)\r\n",
        "model.fit(X)"
      ],
      "outputs": [
        {
          "output_type": "execute_result",
          "data": {
            "text/plain": [
              "MiniBatchKMeans(n_clusters=5, random_state=5)"
            ]
          },
          "metadata": {},
          "execution_count": 85
        }
      ],
      "metadata": {}
    },
    {
      "cell_type": "code",
      "execution_count": 86,
      "source": [
        "model.cluster_centers_"
      ],
      "outputs": [
        {
          "output_type": "execute_result",
          "data": {
            "text/plain": [
              "array([[0.00000000e+00, 9.53792133e-03, 0.00000000e+00, ...,\n",
              "        0.00000000e+00, 0.00000000e+00, 0.00000000e+00],\n",
              "       [0.00000000e+00, 3.25247859e-03, 0.00000000e+00, ...,\n",
              "        0.00000000e+00, 0.00000000e+00, 0.00000000e+00],\n",
              "       [4.78464194e-04, 4.29485393e-03, 0.00000000e+00, ...,\n",
              "        0.00000000e+00, 0.00000000e+00, 0.00000000e+00],\n",
              "       [0.00000000e+00, 7.23894989e-03, 7.89615876e-05, ...,\n",
              "        1.89383101e-04, 2.21404211e-04, 1.21739371e-04],\n",
              "       [0.00000000e+00, 1.12049143e-02, 0.00000000e+00, ...,\n",
              "        0.00000000e+00, 0.00000000e+00, 0.00000000e+00]])"
            ]
          },
          "metadata": {},
          "execution_count": 86
        }
      ],
      "metadata": {}
    },
    {
      "cell_type": "code",
      "execution_count": 87,
      "source": [
        "# predict cluster labels for new dataset\r\n",
        "model.predict(X)\r\n",
        "\r\n",
        "# to get cluster labels for the dataset used while\r\n",
        "# training the model (used for models that does not\r\n",
        "# support prediction on new dataset).\r\n",
        "model.labels_"
      ],
      "outputs": [
        {
          "output_type": "execute_result",
          "data": {
            "text/plain": [
              "array([3, 3, 3, ..., 3, 3, 2])"
            ]
          },
          "metadata": {},
          "execution_count": 87
        }
      ],
      "metadata": {}
    },
    {
      "cell_type": "code",
      "execution_count": 88,
      "source": [
        "print ('Most Common Terms per Cluster:')\r\n",
        "order_centroids = model.cluster_centers_.argsort()[:,::-1] #sort cluster centers by proximity to centroid\r\n",
        "terms = vectorizer.get_feature_names()\r\n",
        "\r\n",
        "for i in range(5):\r\n",
        "    print(\"\\n\")\r\n",
        "    print('Cluster %d:' % i)\r\n",
        "    for j in order_centroids[i, :10]: #replace 10 with n words per cluster\r\n",
        "        print ('%s' % terms[j]),\r\n",
        "    print"
      ],
      "outputs": [
        {
          "output_type": "stream",
          "name": "stdout",
          "text": [
            "Most Common Terms per Cluster:\n",
            "\n",
            "\n",
            "Cluster 0:\n",
            "plane\n",
            "cargo\n",
            "mountain\n",
            "crashed\n",
            "attempting\n",
            "struck\n",
            "land\n",
            "engine\n",
            "flew\n",
            "mail\n",
            "\n",
            "\n",
            "Cluster 1:\n",
            "weather\n",
            "conditions\n",
            "poor\n",
            "vfr\n",
            "adverse\n",
            "flight\n",
            "crashed\n",
            "continued\n",
            "mountain\n",
            "pilot\n",
            "\n",
            "\n",
            "Cluster 2:\n",
            "en\n",
            "route\n",
            "crashed\n",
            "takeoff\n",
            "sea\n",
            "mountain\n",
            "disappeared\n",
            "engine\n",
            "mountains\n",
            "plane\n",
            "\n",
            "\n",
            "Cluster 3:\n",
            "crashed\n",
            "aircraft\n",
            "approach\n",
            "runway\n",
            "pilot\n",
            "landing\n",
            "engine\n",
            "plane\n",
            "failure\n",
            "flight\n",
            "\n",
            "\n",
            "Cluster 4:\n",
            "taking\n",
            "shortly\n",
            "shot\n",
            "crashed\n",
            "plane\n",
            "aircraft\n",
            "engine\n",
            "minutes\n",
            "air\n",
            "rebels\n"
          ]
        }
      ],
      "metadata": {}
    }
  ]
}